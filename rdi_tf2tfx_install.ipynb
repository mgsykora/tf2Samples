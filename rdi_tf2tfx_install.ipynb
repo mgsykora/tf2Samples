{
 "cells": [
  {
   "cell_type": "markdown",
   "metadata": {
    "slideshow": {
     "slide_type": "fragment"
    }
   },
   "source": [
    "Docker host jupyter/minimal-notebook"
   ]
  },
  {
   "cell_type": "code",
   "execution_count": 4,
   "metadata": {
    "collapsed": true,
    "jupyter": {
     "outputs_hidden": true
    }
   },
   "outputs": [
    {
     "name": "stdout",
     "output_type": "stream",
     "text": [
      "absl-py==0.8.1\n",
      "alembic==1.3.0\n",
      "apache-beam==2.16.0\n",
      "astor==0.8.0\n",
      "async-generator==1.10\n",
      "attrs==19.3.0\n",
      "avro-python3==1.9.1\n",
      "backcall==0.1.0\n",
      "bleach==3.1.0\n",
      "blinker==1.4\n",
      "cachetools==3.1.1\n",
      "certifi==2019.9.11\n",
      "certipy==0.1.3\n",
      "cffi==1.13.2\n",
      "chardet==3.0.4\n",
      "Click==7.0\n",
      "conda==4.7.12\n",
      "conda-package-handling==1.6.0\n",
      "crcmod==1.7\n",
      "cryptography==2.8\n",
      "decorator==4.4.1\n",
      "defusedxml==0.6.0\n",
      "dill==0.3.0\n",
      "docopt==0.6.2\n",
      "entrypoints==0.3\n",
      "fastavro==0.21.24\n",
      "fasteners==0.15\n",
      "future==0.18.2\n",
      "gast==0.2.2\n",
      "google-api-core==1.14.3\n",
      "google-api-python-client==1.7.11\n",
      "google-apitools==0.5.28\n",
      "google-auth==1.7.1\n",
      "google-auth-httplib2==0.0.3\n",
      "google-auth-oauthlib==0.4.1\n",
      "google-cloud-bigquery==1.17.1\n",
      "google-cloud-bigtable==1.0.0\n",
      "google-cloud-core==1.0.3\n",
      "google-cloud-datastore==1.7.4\n",
      "google-cloud-pubsub==1.0.2\n",
      "google-pasta==0.1.8\n",
      "google-resumable-media==0.4.1\n",
      "googleapis-common-protos==1.6.0\n",
      "grpc-google-iam-v1==0.12.3\n",
      "grpcio==1.24.3\n",
      "h5py==2.10.0\n",
      "hdfs==2.5.8\n",
      "httplib2==0.12.0\n",
      "idna==2.8\n",
      "importlib-metadata==0.23\n",
      "ipykernel==5.1.3\n",
      "ipython==7.9.0\n",
      "ipython-genutils==0.2.0\n",
      "ipywidgets==7.5.1\n",
      "jedi==0.15.1\n",
      "Jinja2==2.10.3\n",
      "joblib==0.14.0\n",
      "json5==0.8.5\n",
      "jsonschema==3.1.1\n",
      "jupyter==1.0.0\n",
      "jupyter-client==5.3.3\n",
      "jupyter-console==6.0.0\n",
      "jupyter-core==4.5.0\n",
      "jupyterhub==1.0.0\n",
      "jupyterlab==1.2.1\n",
      "jupyterlab-server==1.0.6\n",
      "Keras-Applications==1.0.8\n",
      "Keras-Preprocessing==1.1.0\n",
      "Mako==1.1.0\n",
      "Markdown==3.1.1\n",
      "MarkupSafe==1.1.1\n",
      "mistune==0.8.4\n",
      "ml-metadata==0.15.1\n",
      "mock==2.0.0\n",
      "monotonic==1.5\n",
      "more-itertools==7.2.0\n",
      "nbconvert==5.6.1\n",
      "nbformat==4.4.0\n",
      "notebook==6.0.0\n",
      "numpy==1.17.4\n",
      "oauth2client==3.0.0\n",
      "oauthlib==3.0.1\n",
      "opt-einsum==3.1.0\n",
      "pamela==1.0.0\n",
      "pandas==0.25.3\n",
      "pandocfilters==1.4.2\n",
      "parso==0.5.1\n",
      "pbr==5.4.4\n",
      "pexpect==4.7.0\n",
      "pickleshare==0.7.5\n",
      "prometheus-client==0.7.1\n",
      "prompt-toolkit==2.0.10\n",
      "protobuf==3.11.0\n",
      "psutil==5.6.7\n",
      "ptyprocess==0.6.0\n",
      "pyarrow==0.14.1\n",
      "pyasn1==0.4.8\n",
      "pyasn1-modules==0.2.7\n",
      "pycosat==0.6.3\n",
      "pycparser==2.19\n",
      "pycurl==7.43.0.3\n",
      "pydot==1.4.1\n",
      "Pygments==2.4.2\n",
      "PyJWT==1.7.1\n",
      "pymongo==3.9.0\n",
      "pyOpenSSL==19.0.0\n",
      "pyparsing==2.4.5\n",
      "pyrsistent==0.15.5\n",
      "PySocks==1.7.1\n",
      "python-dateutil==2.8.1\n",
      "python-editor==1.0.4\n",
      "pytz==2019.3\n",
      "PyYAML==3.13\n",
      "pyzmq==18.1.0\n",
      "qtconsole==4.6.0\n",
      "requests==2.22.0\n",
      "requests-oauthlib==1.3.0\n",
      "rsa==4.0\n",
      "ruamel-yaml==0.15.71\n",
      "scikit-learn==0.21.3\n",
      "scipy==1.1.0\n",
      "Send2Trash==1.5.0\n",
      "six==1.13.0\n",
      "SQLAlchemy==1.3.10\n",
      "tensorboard==2.0.0\n",
      "tensorflow==2.0.0\n",
      "tensorflow-data-validation==0.15.0\n",
      "tensorflow-estimator==2.0.1\n",
      "tensorflow-metadata==0.15.1\n",
      "tensorflow-model-analysis==0.15.4\n",
      "tensorflow-serving-api==2.0.0\n",
      "tensorflow-transform==0.15.0\n",
      "termcolor==1.1.0\n",
      "terminado==0.8.2\n",
      "testpath==0.4.4\n",
      "tfx==0.15.0\n",
      "tfx-bsl==0.15.3\n",
      "tornado==6.0.3\n",
      "tqdm==4.37.0\n",
      "traitlets==4.3.3\n",
      "uritemplate==3.0.0\n",
      "urllib3==1.25.6\n",
      "wcwidth==0.1.7\n",
      "webencodings==0.5.1\n",
      "Werkzeug==0.16.0\n",
      "widgetsnbextension==3.5.1\n",
      "wrapt==1.11.2\n",
      "zipp==0.6.0\n"
     ]
    }
   ],
   "source": [
    "!pip freeze"
   ]
  },
  {
   "cell_type": "markdown",
   "metadata": {},
   "source": [
    "Let's start with the pip install for necessay components\n",
    "This will create incompatible entries\n",
    "And install an tf 1.15"
   ]
  },
  {
   "cell_type": "code",
   "execution_count": 32,
   "metadata": {
    "collapsed": true,
    "jupyter": {
     "outputs_hidden": true
    }
   },
   "outputs": [
    {
     "name": "stdout",
     "output_type": "stream",
     "text": [
      "Requirement already satisfied: tfx==0.15.0 in /opt/conda/lib/python3.7/site-packages (0.15.0)\n",
      "Requirement already satisfied: tensorflow-data-validation==0.15.0 in /opt/conda/lib/python3.7/site-packages (0.15.0)\n",
      "Requirement already satisfied: tensorflow_transform==0.15.0 in /opt/conda/lib/python3.7/site-packages (0.15.0)\n",
      "Requirement already satisfied: click<8,>=7 in /opt/conda/lib/python3.7/site-packages (from tfx==0.15.0) (7.0)\n",
      "Requirement already satisfied: apache-beam[gcp]<3,>=2.16 in /opt/conda/lib/python3.7/site-packages (from tfx==0.15.0) (2.16.0)\n",
      "Requirement already satisfied: six<2,>=1.10 in /opt/conda/lib/python3.7/site-packages (from tfx==0.15.0) (1.13.0)\n",
      "Requirement already satisfied: tensorflow<3,>=1.15 in /opt/conda/lib/python3.7/site-packages (from tfx==0.15.0) (2.0.0)\n",
      "Requirement already satisfied: tensorflow-model-analysis<0.16,>=0.15.2 in /opt/conda/lib/python3.7/site-packages (from tfx==0.15.0) (0.15.4)\n",
      "Requirement already satisfied: google-api-python-client<2,>=1.7.8 in /opt/conda/lib/python3.7/site-packages (from tfx==0.15.0) (1.7.11)\n",
      "Requirement already satisfied: pyyaml<4,>=3.12 in /opt/conda/lib/python3.7/site-packages (from tfx==0.15.0) (3.13)\n",
      "Requirement already satisfied: tfx-bsl<0.16,>=0.15.3 in /opt/conda/lib/python3.7/site-packages (from tfx==0.15.0) (0.15.3)\n",
      "Requirement already satisfied: absl-py<0.9,>=0.1.6 in /opt/conda/lib/python3.7/site-packages (from tfx==0.15.0) (0.8.1)\n",
      "Requirement already satisfied: ml-metadata<0.16,>=0.15.0rc0 in /opt/conda/lib/python3.7/site-packages (from tfx==0.15.0) (0.15.1)\n",
      "Requirement already satisfied: protobuf<4,>=3.7 in /opt/conda/lib/python3.7/site-packages (from tfx==0.15.0) (3.11.0)\n",
      "Requirement already satisfied: jinja2<3,>=2.7.3 in /opt/conda/lib/python3.7/site-packages (from tfx==0.15.0) (2.10.3)\n",
      "Requirement already satisfied: numpy<2,>=1.16 in /opt/conda/lib/python3.7/site-packages (from tensorflow-data-validation==0.15.0) (1.17.4)\n",
      "Requirement already satisfied: pyarrow<0.15,>=0.14 in /opt/conda/lib/python3.7/site-packages (from tensorflow-data-validation==0.15.0) (0.14.1)\n",
      "Requirement already satisfied: tensorflow-metadata<0.16,>=0.15 in /opt/conda/lib/python3.7/site-packages (from tensorflow-data-validation==0.15.0) (0.15.1)\n",
      "Requirement already satisfied: joblib<0.15,>=0.12 in /opt/conda/lib/python3.7/site-packages (from tensorflow-data-validation==0.15.0) (0.14.0)\n",
      "Requirement already satisfied: scikit-learn<0.22,>=0.18 in /opt/conda/lib/python3.7/site-packages (from tensorflow-data-validation==0.15.0) (0.21.3)\n",
      "Requirement already satisfied: pandas<1,>=0.24 in /opt/conda/lib/python3.7/site-packages (from tensorflow-data-validation==0.15.0) (0.25.3)\n",
      "Requirement already satisfied: ipython>=5 in /opt/conda/lib/python3.7/site-packages (from tensorflow-data-validation==0.15.0) (7.9.0)\n",
      "Requirement already satisfied: pydot<2,>=1.2 in /opt/conda/lib/python3.7/site-packages (from tensorflow_transform==0.15.0) (1.4.1)\n",
      "Requirement already satisfied: oauth2client<4,>=2.0.1 in /opt/conda/lib/python3.7/site-packages (from apache-beam[gcp]<3,>=2.16->tfx==0.15.0) (3.0.0)\n",
      "Requirement already satisfied: mock<3.0.0,>=1.0.1 in /opt/conda/lib/python3.7/site-packages (from apache-beam[gcp]<3,>=2.16->tfx==0.15.0) (2.0.0)\n",
      "Requirement already satisfied: pymongo<4.0.0,>=3.8.0 in /opt/conda/lib/python3.7/site-packages (from apache-beam[gcp]<3,>=2.16->tfx==0.15.0) (3.9.0)\n",
      "Requirement already satisfied: crcmod<2.0,>=1.7 in /opt/conda/lib/python3.7/site-packages (from apache-beam[gcp]<3,>=2.16->tfx==0.15.0) (1.7)\n",
      "Requirement already satisfied: grpcio<2,>=1.12.1 in /opt/conda/lib/python3.7/site-packages (from apache-beam[gcp]<3,>=2.16->tfx==0.15.0) (1.24.3)\n",
      "Requirement already satisfied: hdfs<3.0.0,>=2.1.0 in /opt/conda/lib/python3.7/site-packages (from apache-beam[gcp]<3,>=2.16->tfx==0.15.0) (2.5.8)\n",
      "Requirement already satisfied: python-dateutil<3,>=2.8.0 in /opt/conda/lib/python3.7/site-packages (from apache-beam[gcp]<3,>=2.16->tfx==0.15.0) (2.8.1)\n",
      "Requirement already satisfied: httplib2<=0.12.0,>=0.8 in /opt/conda/lib/python3.7/site-packages (from apache-beam[gcp]<3,>=2.16->tfx==0.15.0) (0.12.0)\n",
      "Requirement already satisfied: fastavro<0.22,>=0.21.4 in /opt/conda/lib/python3.7/site-packages (from apache-beam[gcp]<3,>=2.16->tfx==0.15.0) (0.21.24)\n",
      "Requirement already satisfied: avro-python3<2.0.0,>=1.8.1; python_version >= \"3.0\" in /opt/conda/lib/python3.7/site-packages (from apache-beam[gcp]<3,>=2.16->tfx==0.15.0) (1.9.1)\n",
      "Requirement already satisfied: dill<0.3.1,>=0.3.0 in /opt/conda/lib/python3.7/site-packages (from apache-beam[gcp]<3,>=2.16->tfx==0.15.0) (0.3.0)\n",
      "Requirement already satisfied: pytz>=2018.3 in /opt/conda/lib/python3.7/site-packages (from apache-beam[gcp]<3,>=2.16->tfx==0.15.0) (2019.3)\n",
      "Requirement already satisfied: future<1.0.0,>=0.16.0 in /opt/conda/lib/python3.7/site-packages (from apache-beam[gcp]<3,>=2.16->tfx==0.15.0) (0.18.2)\n",
      "Requirement already satisfied: cachetools<4,>=3.1.0; extra == \"gcp\" in /opt/conda/lib/python3.7/site-packages (from apache-beam[gcp]<3,>=2.16->tfx==0.15.0) (3.1.1)\n",
      "Requirement already satisfied: google-cloud-core<2,>=0.28.1; extra == \"gcp\" in /opt/conda/lib/python3.7/site-packages (from apache-beam[gcp]<3,>=2.16->tfx==0.15.0) (1.0.3)\n",
      "Requirement already satisfied: google-cloud-bigquery<1.18.0,>=1.6.0; extra == \"gcp\" in /opt/conda/lib/python3.7/site-packages (from apache-beam[gcp]<3,>=2.16->tfx==0.15.0) (1.17.1)\n",
      "Requirement already satisfied: google-cloud-bigtable<1.1.0,>=0.31.1; extra == \"gcp\" in /opt/conda/lib/python3.7/site-packages (from apache-beam[gcp]<3,>=2.16->tfx==0.15.0) (1.0.0)\n",
      "Requirement already satisfied: google-cloud-datastore<1.8.0,>=1.7.1; extra == \"gcp\" in /opt/conda/lib/python3.7/site-packages (from apache-beam[gcp]<3,>=2.16->tfx==0.15.0) (1.7.4)\n",
      "Requirement already satisfied: google-cloud-pubsub<1.1.0,>=0.39.0; extra == \"gcp\" in /opt/conda/lib/python3.7/site-packages (from apache-beam[gcp]<3,>=2.16->tfx==0.15.0) (1.0.2)\n",
      "Requirement already satisfied: google-apitools<0.5.29,>=0.5.28; extra == \"gcp\" in /opt/conda/lib/python3.7/site-packages (from apache-beam[gcp]<3,>=2.16->tfx==0.15.0) (0.5.28)\n",
      "Requirement already satisfied: wrapt>=1.11.1 in /opt/conda/lib/python3.7/site-packages (from tensorflow<3,>=1.15->tfx==0.15.0) (1.11.2)\n",
      "Requirement already satisfied: keras-preprocessing>=1.0.5 in /opt/conda/lib/python3.7/site-packages (from tensorflow<3,>=1.15->tfx==0.15.0) (1.1.0)\n",
      "Requirement already satisfied: termcolor>=1.1.0 in /opt/conda/lib/python3.7/site-packages (from tensorflow<3,>=1.15->tfx==0.15.0) (1.1.0)\n",
      "Requirement already satisfied: keras-applications>=1.0.8 in /opt/conda/lib/python3.7/site-packages (from tensorflow<3,>=1.15->tfx==0.15.0) (1.0.8)\n",
      "Requirement already satisfied: astor>=0.6.0 in /opt/conda/lib/python3.7/site-packages (from tensorflow<3,>=1.15->tfx==0.15.0) (0.8.0)\n",
      "Requirement already satisfied: tensorboard<2.1.0,>=2.0.0 in /opt/conda/lib/python3.7/site-packages (from tensorflow<3,>=1.15->tfx==0.15.0) (2.0.0)\n",
      "Requirement already satisfied: google-pasta>=0.1.6 in /opt/conda/lib/python3.7/site-packages (from tensorflow<3,>=1.15->tfx==0.15.0) (0.1.8)\n",
      "Requirement already satisfied: tensorflow-estimator<2.1.0,>=2.0.0 in /opt/conda/lib/python3.7/site-packages (from tensorflow<3,>=1.15->tfx==0.15.0) (2.0.1)\n",
      "Requirement already satisfied: wheel>=0.26 in /opt/conda/lib/python3.7/site-packages (from tensorflow<3,>=1.15->tfx==0.15.0) (0.33.6)\n",
      "Requirement already satisfied: gast==0.2.2 in /opt/conda/lib/python3.7/site-packages (from tensorflow<3,>=1.15->tfx==0.15.0) (0.2.2)\n",
      "Requirement already satisfied: opt-einsum>=2.3.2 in /opt/conda/lib/python3.7/site-packages (from tensorflow<3,>=1.15->tfx==0.15.0) (3.1.0)\n",
      "Requirement already satisfied: jupyter<2,>=1 in /opt/conda/lib/python3.7/site-packages (from tensorflow-model-analysis<0.16,>=0.15.2->tfx==0.15.0) (1.0.0)\n",
      "Requirement already satisfied: ipywidgets<8,>=7 in /opt/conda/lib/python3.7/site-packages (from tensorflow-model-analysis<0.16,>=0.15.2->tfx==0.15.0) (7.5.1)\n",
      "Requirement already satisfied: scipy==1.1.0 in /opt/conda/lib/python3.7/site-packages (from tensorflow-model-analysis<0.16,>=0.15.2->tfx==0.15.0) (1.1.0)\n",
      "Requirement already satisfied: google-auth-httplib2>=0.0.3 in /opt/conda/lib/python3.7/site-packages (from google-api-python-client<2,>=1.7.8->tfx==0.15.0) (0.0.3)\n",
      "Requirement already satisfied: google-auth>=1.4.1 in /opt/conda/lib/python3.7/site-packages (from google-api-python-client<2,>=1.7.8->tfx==0.15.0) (1.7.1)\n",
      "Requirement already satisfied: uritemplate<4dev,>=3.0.0 in /opt/conda/lib/python3.7/site-packages (from google-api-python-client<2,>=1.7.8->tfx==0.15.0) (3.0.0)\n",
      "Requirement already satisfied: tensorflow-serving-api<3,>=1.15 in /opt/conda/lib/python3.7/site-packages (from tfx-bsl<0.16,>=0.15.3->tfx==0.15.0) (2.0.0)\n",
      "Requirement already satisfied: psutil<6,>=5.6 in /opt/conda/lib/python3.7/site-packages (from tfx-bsl<0.16,>=0.15.3->tfx==0.15.0) (5.6.7)\n",
      "Requirement already satisfied: setuptools in /opt/conda/lib/python3.7/site-packages (from protobuf<4,>=3.7->tfx==0.15.0) (41.6.0.post20191101)\n",
      "Requirement already satisfied: MarkupSafe>=0.23 in /opt/conda/lib/python3.7/site-packages (from jinja2<3,>=2.7.3->tfx==0.15.0) (1.1.1)\n",
      "Requirement already satisfied: googleapis-common-protos in /opt/conda/lib/python3.7/site-packages (from tensorflow-metadata<0.16,>=0.15->tensorflow-data-validation==0.15.0) (1.6.0)\n",
      "Requirement already satisfied: traitlets>=4.2 in /opt/conda/lib/python3.7/site-packages (from ipython>=5->tensorflow-data-validation==0.15.0) (4.3.3)\n",
      "Requirement already satisfied: prompt-toolkit<2.1.0,>=2.0.0 in /opt/conda/lib/python3.7/site-packages (from ipython>=5->tensorflow-data-validation==0.15.0) (2.0.10)\n",
      "Requirement already satisfied: backcall in /opt/conda/lib/python3.7/site-packages (from ipython>=5->tensorflow-data-validation==0.15.0) (0.1.0)\n",
      "Requirement already satisfied: decorator in /opt/conda/lib/python3.7/site-packages (from ipython>=5->tensorflow-data-validation==0.15.0) (4.4.1)\n",
      "Requirement already satisfied: pexpect; sys_platform != \"win32\" in /opt/conda/lib/python3.7/site-packages (from ipython>=5->tensorflow-data-validation==0.15.0) (4.7.0)\n",
      "Requirement already satisfied: jedi>=0.10 in /opt/conda/lib/python3.7/site-packages (from ipython>=5->tensorflow-data-validation==0.15.0) (0.15.1)\n",
      "Requirement already satisfied: pickleshare in /opt/conda/lib/python3.7/site-packages (from ipython>=5->tensorflow-data-validation==0.15.0) (0.7.5)\n",
      "Requirement already satisfied: pygments in /opt/conda/lib/python3.7/site-packages (from ipython>=5->tensorflow-data-validation==0.15.0) (2.4.2)\n",
      "Requirement already satisfied: pyparsing>=2.1.4 in /opt/conda/lib/python3.7/site-packages (from pydot<2,>=1.2->tensorflow_transform==0.15.0) (2.4.5)\n",
      "Requirement already satisfied: pyasn1>=0.1.7 in /opt/conda/lib/python3.7/site-packages (from oauth2client<4,>=2.0.1->apache-beam[gcp]<3,>=2.16->tfx==0.15.0) (0.4.8)\n",
      "Requirement already satisfied: rsa>=3.1.4 in /opt/conda/lib/python3.7/site-packages (from oauth2client<4,>=2.0.1->apache-beam[gcp]<3,>=2.16->tfx==0.15.0) (4.0)\n",
      "Requirement already satisfied: pyasn1-modules>=0.0.5 in /opt/conda/lib/python3.7/site-packages (from oauth2client<4,>=2.0.1->apache-beam[gcp]<3,>=2.16->tfx==0.15.0) (0.2.7)\n",
      "Requirement already satisfied: pbr>=0.11 in /opt/conda/lib/python3.7/site-packages (from mock<3.0.0,>=1.0.1->apache-beam[gcp]<3,>=2.16->tfx==0.15.0) (5.4.4)\n",
      "Requirement already satisfied: requests>=2.7.0 in /opt/conda/lib/python3.7/site-packages (from hdfs<3.0.0,>=2.1.0->apache-beam[gcp]<3,>=2.16->tfx==0.15.0) (2.22.0)\n",
      "Requirement already satisfied: docopt in /opt/conda/lib/python3.7/site-packages (from hdfs<3.0.0,>=2.1.0->apache-beam[gcp]<3,>=2.16->tfx==0.15.0) (0.6.2)\n",
      "Requirement already satisfied: google-api-core<2.0.0dev,>=1.14.0 in /opt/conda/lib/python3.7/site-packages (from google-cloud-core<2,>=0.28.1; extra == \"gcp\"->apache-beam[gcp]<3,>=2.16->tfx==0.15.0) (1.14.3)\n",
      "Requirement already satisfied: google-resumable-media<0.5.0dev,>=0.3.1 in /opt/conda/lib/python3.7/site-packages (from google-cloud-bigquery<1.18.0,>=1.6.0; extra == \"gcp\"->apache-beam[gcp]<3,>=2.16->tfx==0.15.0) (0.4.1)\n",
      "Requirement already satisfied: grpc-google-iam-v1<0.13dev,>=0.12.3 in /opt/conda/lib/python3.7/site-packages (from google-cloud-bigtable<1.1.0,>=0.31.1; extra == \"gcp\"->apache-beam[gcp]<3,>=2.16->tfx==0.15.0) (0.12.3)\n",
      "Requirement already satisfied: fasteners>=0.14 in /opt/conda/lib/python3.7/site-packages (from google-apitools<0.5.29,>=0.5.28; extra == \"gcp\"->apache-beam[gcp]<3,>=2.16->tfx==0.15.0) (0.15)\n",
      "Requirement already satisfied: h5py in /opt/conda/lib/python3.7/site-packages (from keras-applications>=1.0.8->tensorflow<3,>=1.15->tfx==0.15.0) (2.10.0)\n",
      "Requirement already satisfied: markdown>=2.6.8 in /opt/conda/lib/python3.7/site-packages (from tensorboard<2.1.0,>=2.0.0->tensorflow<3,>=1.15->tfx==0.15.0) (3.1.1)\n",
      "Requirement already satisfied: werkzeug>=0.11.15 in /opt/conda/lib/python3.7/site-packages (from tensorboard<2.1.0,>=2.0.0->tensorflow<3,>=1.15->tfx==0.15.0) (0.16.0)\n",
      "Requirement already satisfied: nbconvert in /opt/conda/lib/python3.7/site-packages (from jupyter<2,>=1->tensorflow-model-analysis<0.16,>=0.15.2->tfx==0.15.0) (5.6.1)\n",
      "Requirement already satisfied: ipykernel in /opt/conda/lib/python3.7/site-packages (from jupyter<2,>=1->tensorflow-model-analysis<0.16,>=0.15.2->tfx==0.15.0) (5.1.3)\n",
      "Requirement already satisfied: qtconsole in /opt/conda/lib/python3.7/site-packages (from jupyter<2,>=1->tensorflow-model-analysis<0.16,>=0.15.2->tfx==0.15.0) (4.6.0)\n",
      "Requirement already satisfied: notebook in /opt/conda/lib/python3.7/site-packages (from jupyter<2,>=1->tensorflow-model-analysis<0.16,>=0.15.2->tfx==0.15.0) (6.0.0)\n",
      "Requirement already satisfied: jupyter-console in /opt/conda/lib/python3.7/site-packages (from jupyter<2,>=1->tensorflow-model-analysis<0.16,>=0.15.2->tfx==0.15.0) (6.0.0)\n",
      "Requirement already satisfied: widgetsnbextension~=3.5.0 in /opt/conda/lib/python3.7/site-packages (from ipywidgets<8,>=7->tensorflow-model-analysis<0.16,>=0.15.2->tfx==0.15.0) (3.5.1)\n",
      "Requirement already satisfied: nbformat>=4.2.0 in /opt/conda/lib/python3.7/site-packages (from ipywidgets<8,>=7->tensorflow-model-analysis<0.16,>=0.15.2->tfx==0.15.0) (4.4.0)\n",
      "Requirement already satisfied: ipython-genutils in /opt/conda/lib/python3.7/site-packages (from traitlets>=4.2->ipython>=5->tensorflow-data-validation==0.15.0) (0.2.0)\n",
      "Requirement already satisfied: wcwidth in /opt/conda/lib/python3.7/site-packages (from prompt-toolkit<2.1.0,>=2.0.0->ipython>=5->tensorflow-data-validation==0.15.0) (0.1.7)\n",
      "Requirement already satisfied: ptyprocess>=0.5 in /opt/conda/lib/python3.7/site-packages (from pexpect; sys_platform != \"win32\"->ipython>=5->tensorflow-data-validation==0.15.0) (0.6.0)\n",
      "Requirement already satisfied: parso>=0.5.0 in /opt/conda/lib/python3.7/site-packages (from jedi>=0.10->ipython>=5->tensorflow-data-validation==0.15.0) (0.5.1)\n",
      "Requirement already satisfied: chardet<3.1.0,>=3.0.2 in /opt/conda/lib/python3.7/site-packages (from requests>=2.7.0->hdfs<3.0.0,>=2.1.0->apache-beam[gcp]<3,>=2.16->tfx==0.15.0) (3.0.4)\n",
      "Requirement already satisfied: urllib3!=1.25.0,!=1.25.1,<1.26,>=1.21.1 in /opt/conda/lib/python3.7/site-packages (from requests>=2.7.0->hdfs<3.0.0,>=2.1.0->apache-beam[gcp]<3,>=2.16->tfx==0.15.0) (1.25.6)\n",
      "Requirement already satisfied: idna<2.9,>=2.5 in /opt/conda/lib/python3.7/site-packages (from requests>=2.7.0->hdfs<3.0.0,>=2.1.0->apache-beam[gcp]<3,>=2.16->tfx==0.15.0) (2.8)\n",
      "Requirement already satisfied: certifi>=2017.4.17 in /opt/conda/lib/python3.7/site-packages (from requests>=2.7.0->hdfs<3.0.0,>=2.1.0->apache-beam[gcp]<3,>=2.16->tfx==0.15.0) (2019.9.11)\n",
      "Requirement already satisfied: monotonic>=0.1 in /opt/conda/lib/python3.7/site-packages (from fasteners>=0.14->google-apitools<0.5.29,>=0.5.28; extra == \"gcp\"->apache-beam[gcp]<3,>=2.16->tfx==0.15.0) (1.5)\n",
      "Requirement already satisfied: pandocfilters>=1.4.1 in /opt/conda/lib/python3.7/site-packages (from nbconvert->jupyter<2,>=1->tensorflow-model-analysis<0.16,>=0.15.2->tfx==0.15.0) (1.4.2)\n",
      "Requirement already satisfied: mistune<2,>=0.8.1 in /opt/conda/lib/python3.7/site-packages (from nbconvert->jupyter<2,>=1->tensorflow-model-analysis<0.16,>=0.15.2->tfx==0.15.0) (0.8.4)\n",
      "Requirement already satisfied: defusedxml in /opt/conda/lib/python3.7/site-packages (from nbconvert->jupyter<2,>=1->tensorflow-model-analysis<0.16,>=0.15.2->tfx==0.15.0) (0.6.0)\n",
      "Requirement already satisfied: testpath in /opt/conda/lib/python3.7/site-packages (from nbconvert->jupyter<2,>=1->tensorflow-model-analysis<0.16,>=0.15.2->tfx==0.15.0) (0.4.4)\n",
      "Requirement already satisfied: jupyter-core in /opt/conda/lib/python3.7/site-packages (from nbconvert->jupyter<2,>=1->tensorflow-model-analysis<0.16,>=0.15.2->tfx==0.15.0) (4.5.0)\n",
      "Requirement already satisfied: bleach in /opt/conda/lib/python3.7/site-packages (from nbconvert->jupyter<2,>=1->tensorflow-model-analysis<0.16,>=0.15.2->tfx==0.15.0) (3.1.0)\n",
      "Requirement already satisfied: entrypoints>=0.2.2 in /opt/conda/lib/python3.7/site-packages (from nbconvert->jupyter<2,>=1->tensorflow-model-analysis<0.16,>=0.15.2->tfx==0.15.0) (0.3)\n",
      "Requirement already satisfied: tornado>=4.2 in /opt/conda/lib/python3.7/site-packages (from ipykernel->jupyter<2,>=1->tensorflow-model-analysis<0.16,>=0.15.2->tfx==0.15.0) (6.0.3)\n",
      "Requirement already satisfied: jupyter-client in /opt/conda/lib/python3.7/site-packages (from ipykernel->jupyter<2,>=1->tensorflow-model-analysis<0.16,>=0.15.2->tfx==0.15.0) (5.3.3)\n",
      "Requirement already satisfied: pyzmq>=17 in /opt/conda/lib/python3.7/site-packages (from notebook->jupyter<2,>=1->tensorflow-model-analysis<0.16,>=0.15.2->tfx==0.15.0) (18.1.0)\n",
      "Requirement already satisfied: prometheus-client in /opt/conda/lib/python3.7/site-packages (from notebook->jupyter<2,>=1->tensorflow-model-analysis<0.16,>=0.15.2->tfx==0.15.0) (0.7.1)\n",
      "Requirement already satisfied: Send2Trash in /opt/conda/lib/python3.7/site-packages (from notebook->jupyter<2,>=1->tensorflow-model-analysis<0.16,>=0.15.2->tfx==0.15.0) (1.5.0)\n",
      "Requirement already satisfied: terminado>=0.8.1 in /opt/conda/lib/python3.7/site-packages (from notebook->jupyter<2,>=1->tensorflow-model-analysis<0.16,>=0.15.2->tfx==0.15.0) (0.8.2)\n",
      "Requirement already satisfied: jsonschema!=2.5.0,>=2.4 in /opt/conda/lib/python3.7/site-packages (from nbformat>=4.2.0->ipywidgets<8,>=7->tensorflow-model-analysis<0.16,>=0.15.2->tfx==0.15.0) (3.1.1)\n",
      "Requirement already satisfied: webencodings in /opt/conda/lib/python3.7/site-packages (from bleach->nbconvert->jupyter<2,>=1->tensorflow-model-analysis<0.16,>=0.15.2->tfx==0.15.0) (0.5.1)\n",
      "Requirement already satisfied: importlib-metadata in /opt/conda/lib/python3.7/site-packages (from jsonschema!=2.5.0,>=2.4->nbformat>=4.2.0->ipywidgets<8,>=7->tensorflow-model-analysis<0.16,>=0.15.2->tfx==0.15.0) (0.23)\n",
      "Requirement already satisfied: attrs>=17.4.0 in /opt/conda/lib/python3.7/site-packages (from jsonschema!=2.5.0,>=2.4->nbformat>=4.2.0->ipywidgets<8,>=7->tensorflow-model-analysis<0.16,>=0.15.2->tfx==0.15.0) (19.3.0)\n",
      "Requirement already satisfied: pyrsistent>=0.14.0 in /opt/conda/lib/python3.7/site-packages (from jsonschema!=2.5.0,>=2.4->nbformat>=4.2.0->ipywidgets<8,>=7->tensorflow-model-analysis<0.16,>=0.15.2->tfx==0.15.0) (0.15.5)\n",
      "Requirement already satisfied: zipp>=0.5 in /opt/conda/lib/python3.7/site-packages (from importlib-metadata->jsonschema!=2.5.0,>=2.4->nbformat>=4.2.0->ipywidgets<8,>=7->tensorflow-model-analysis<0.16,>=0.15.2->tfx==0.15.0) (0.6.0)\n",
      "Requirement already satisfied: more-itertools in /opt/conda/lib/python3.7/site-packages (from zipp>=0.5->importlib-metadata->jsonschema!=2.5.0,>=2.4->nbformat>=4.2.0->ipywidgets<8,>=7->tensorflow-model-analysis<0.16,>=0.15.2->tfx==0.15.0) (7.2.0)\n"
     ]
    }
   ],
   "source": [
    "!pip install tfx==0.15.0 tensorflow-data-validation==0.15.0 tensorflow_transform==0.15.0"
   ]
  },
  {
   "cell_type": "markdown",
   "metadata": {},
   "source": [
    "## Workbooks common"
   ]
  },
  {
   "cell_type": "code",
   "execution_count": 14,
   "metadata": {
    "collapsed": true,
    "jupyter": {
     "outputs_hidden": true
    }
   },
   "outputs": [
    {
     "name": "stdout",
     "output_type": "stream",
     "text": [
      "Requirement already satisfied: jupyter-tensorboard in /opt/conda/lib/python3.7/site-packages (0.1.10)\n",
      "Requirement already satisfied: notebook>=5.0 in /opt/conda/lib/python3.7/site-packages (from jupyter-tensorboard) (6.0.0)\n",
      "Requirement already satisfied: ipykernel in /opt/conda/lib/python3.7/site-packages (from notebook>=5.0->jupyter-tensorboard) (5.1.3)\n",
      "Requirement already satisfied: ipython-genutils in /opt/conda/lib/python3.7/site-packages (from notebook>=5.0->jupyter-tensorboard) (0.2.0)\n",
      "Requirement already satisfied: terminado>=0.8.1 in /opt/conda/lib/python3.7/site-packages (from notebook>=5.0->jupyter-tensorboard) (0.8.2)\n",
      "Requirement already satisfied: jupyter-client>=5.3.1 in /opt/conda/lib/python3.7/site-packages (from notebook>=5.0->jupyter-tensorboard) (5.3.3)\n",
      "Requirement already satisfied: nbformat in /opt/conda/lib/python3.7/site-packages (from notebook>=5.0->jupyter-tensorboard) (4.4.0)\n",
      "Requirement already satisfied: jupyter-core>=4.4.0 in /opt/conda/lib/python3.7/site-packages (from notebook>=5.0->jupyter-tensorboard) (4.5.0)\n",
      "Requirement already satisfied: Send2Trash in /opt/conda/lib/python3.7/site-packages (from notebook>=5.0->jupyter-tensorboard) (1.5.0)\n",
      "Requirement already satisfied: pyzmq>=17 in /opt/conda/lib/python3.7/site-packages (from notebook>=5.0->jupyter-tensorboard) (18.1.0)\n",
      "Requirement already satisfied: tornado>=5.0 in /opt/conda/lib/python3.7/site-packages (from notebook>=5.0->jupyter-tensorboard) (6.0.3)\n",
      "Requirement already satisfied: prometheus-client in /opt/conda/lib/python3.7/site-packages (from notebook>=5.0->jupyter-tensorboard) (0.7.1)\n",
      "Requirement already satisfied: jinja2 in /opt/conda/lib/python3.7/site-packages (from notebook>=5.0->jupyter-tensorboard) (2.10.3)\n",
      "Requirement already satisfied: traitlets>=4.2.1 in /opt/conda/lib/python3.7/site-packages (from notebook>=5.0->jupyter-tensorboard) (4.3.3)\n",
      "Requirement already satisfied: nbconvert in /opt/conda/lib/python3.7/site-packages (from notebook>=5.0->jupyter-tensorboard) (5.6.1)\n",
      "Requirement already satisfied: ipython>=5.0.0 in /opt/conda/lib/python3.7/site-packages (from ipykernel->notebook>=5.0->jupyter-tensorboard) (7.9.0)\n",
      "Requirement already satisfied: python-dateutil>=2.1 in /opt/conda/lib/python3.7/site-packages (from jupyter-client>=5.3.1->notebook>=5.0->jupyter-tensorboard) (2.8.1)\n",
      "Requirement already satisfied: jsonschema!=2.5.0,>=2.4 in /opt/conda/lib/python3.7/site-packages (from nbformat->notebook>=5.0->jupyter-tensorboard) (3.1.1)\n",
      "Requirement already satisfied: MarkupSafe>=0.23 in /opt/conda/lib/python3.7/site-packages (from jinja2->notebook>=5.0->jupyter-tensorboard) (1.1.1)\n",
      "Requirement already satisfied: six in /opt/conda/lib/python3.7/site-packages (from traitlets>=4.2.1->notebook>=5.0->jupyter-tensorboard) (1.13.0)\n",
      "Requirement already satisfied: decorator in /opt/conda/lib/python3.7/site-packages (from traitlets>=4.2.1->notebook>=5.0->jupyter-tensorboard) (4.4.1)\n",
      "Requirement already satisfied: mistune<2,>=0.8.1 in /opt/conda/lib/python3.7/site-packages (from nbconvert->notebook>=5.0->jupyter-tensorboard) (0.8.4)\n",
      "Requirement already satisfied: testpath in /opt/conda/lib/python3.7/site-packages (from nbconvert->notebook>=5.0->jupyter-tensorboard) (0.4.4)\n",
      "Requirement already satisfied: pygments in /opt/conda/lib/python3.7/site-packages (from nbconvert->notebook>=5.0->jupyter-tensorboard) (2.4.2)\n",
      "Requirement already satisfied: entrypoints>=0.2.2 in /opt/conda/lib/python3.7/site-packages (from nbconvert->notebook>=5.0->jupyter-tensorboard) (0.3)\n",
      "Requirement already satisfied: pandocfilters>=1.4.1 in /opt/conda/lib/python3.7/site-packages (from nbconvert->notebook>=5.0->jupyter-tensorboard) (1.4.2)\n",
      "Requirement already satisfied: bleach in /opt/conda/lib/python3.7/site-packages (from nbconvert->notebook>=5.0->jupyter-tensorboard) (3.1.0)\n",
      "Requirement already satisfied: defusedxml in /opt/conda/lib/python3.7/site-packages (from nbconvert->notebook>=5.0->jupyter-tensorboard) (0.6.0)\n",
      "Requirement already satisfied: backcall in /opt/conda/lib/python3.7/site-packages (from ipython>=5.0.0->ipykernel->notebook>=5.0->jupyter-tensorboard) (0.1.0)\n",
      "Requirement already satisfied: pickleshare in /opt/conda/lib/python3.7/site-packages (from ipython>=5.0.0->ipykernel->notebook>=5.0->jupyter-tensorboard) (0.7.5)\n",
      "Requirement already satisfied: prompt-toolkit<2.1.0,>=2.0.0 in /opt/conda/lib/python3.7/site-packages (from ipython>=5.0.0->ipykernel->notebook>=5.0->jupyter-tensorboard) (2.0.10)\n",
      "Requirement already satisfied: pexpect; sys_platform != \"win32\" in /opt/conda/lib/python3.7/site-packages (from ipython>=5.0.0->ipykernel->notebook>=5.0->jupyter-tensorboard) (4.7.0)\n",
      "Requirement already satisfied: setuptools>=18.5 in /opt/conda/lib/python3.7/site-packages (from ipython>=5.0.0->ipykernel->notebook>=5.0->jupyter-tensorboard) (41.6.0.post20191101)\n",
      "Requirement already satisfied: jedi>=0.10 in /opt/conda/lib/python3.7/site-packages (from ipython>=5.0.0->ipykernel->notebook>=5.0->jupyter-tensorboard) (0.15.1)\n",
      "Requirement already satisfied: pyrsistent>=0.14.0 in /opt/conda/lib/python3.7/site-packages (from jsonschema!=2.5.0,>=2.4->nbformat->notebook>=5.0->jupyter-tensorboard) (0.15.5)\n",
      "Requirement already satisfied: attrs>=17.4.0 in /opt/conda/lib/python3.7/site-packages (from jsonschema!=2.5.0,>=2.4->nbformat->notebook>=5.0->jupyter-tensorboard) (19.3.0)\n",
      "Requirement already satisfied: importlib-metadata in /opt/conda/lib/python3.7/site-packages (from jsonschema!=2.5.0,>=2.4->nbformat->notebook>=5.0->jupyter-tensorboard) (0.23)\n",
      "Requirement already satisfied: webencodings in /opt/conda/lib/python3.7/site-packages (from bleach->nbconvert->notebook>=5.0->jupyter-tensorboard) (0.5.1)\n",
      "Requirement already satisfied: wcwidth in /opt/conda/lib/python3.7/site-packages (from prompt-toolkit<2.1.0,>=2.0.0->ipython>=5.0.0->ipykernel->notebook>=5.0->jupyter-tensorboard) (0.1.7)\n",
      "Requirement already satisfied: ptyprocess>=0.5 in /opt/conda/lib/python3.7/site-packages (from pexpect; sys_platform != \"win32\"->ipython>=5.0.0->ipykernel->notebook>=5.0->jupyter-tensorboard) (0.6.0)\n",
      "Requirement already satisfied: parso>=0.5.0 in /opt/conda/lib/python3.7/site-packages (from jedi>=0.10->ipython>=5.0.0->ipykernel->notebook>=5.0->jupyter-tensorboard) (0.5.1)\n",
      "Requirement already satisfied: zipp>=0.5 in /opt/conda/lib/python3.7/site-packages (from importlib-metadata->jsonschema!=2.5.0,>=2.4->nbformat->notebook>=5.0->jupyter-tensorboard) (0.6.0)\n",
      "Requirement already satisfied: more-itertools in /opt/conda/lib/python3.7/site-packages (from zipp>=0.5->importlib-metadata->jsonschema!=2.5.0,>=2.4->nbformat->notebook>=5.0->jupyter-tensorboard) (7.2.0)\n"
     ]
    }
   ],
   "source": [
    "!pip install jupyter-tensorboard"
   ]
  },
  {
   "cell_type": "code",
   "execution_count": 13,
   "metadata": {},
   "outputs": [
    {
     "name": "stdout",
     "output_type": "stream",
     "text": [
      "Enabling tree extension jupyter_tensorboard/tree...\n",
      "      - Validating: \u001b[32mOK\u001b[0m\n",
      "Enabling: jupyter_tensorboard\n",
      "- Writing config: /home/jovyan/.jupyter\n",
      "    - Validating...\n",
      "      jupyter_tensorboard 0.1.10 \u001b[32mOK\u001b[0m\n"
     ]
    }
   ],
   "source": [
    "!jupyter tensorboard enable"
   ]
  },
  {
   "cell_type": "code",
   "execution_count": 19,
   "metadata": {},
   "outputs": [
    {
     "name": "stdout",
     "output_type": "stream",
     "text": [
      "Enabling: jupyter_tensorboard\n",
      "- Writing config: /home/jovyan/.jupyter\n",
      "    - Validating...\n",
      "      jupyter_tensorboard 0.1.10 \u001b[32mOK\u001b[0m\n"
     ]
    }
   ],
   "source": [
    "!jupyter serverextension enable jupyter_tensorboard --user"
   ]
  },
  {
   "cell_type": "code",
   "execution_count": 29,
   "metadata": {},
   "outputs": [],
   "source": [
    "!jupyter labextension enable jupyterlab_tensorboard"
   ]
  },
  {
   "cell_type": "code",
   "execution_count": 30,
   "metadata": {},
   "outputs": [
    {
     "name": "stdout",
     "output_type": "stream",
     "text": []
    },
    {
     "name": "stdout",
     "output_type": "stream",
     "text": [
      "Building jupyterlab assets (build:prod:minimize)\n",
      "An error occured.\n",
      "RuntimeError: JupyterLab failed to build\n",
      "See the log file for details:  /tmp/jupyterlab-debug-3srx32gf.log\n"
     ]
    }
   ],
   "source": [
    "!jupyter labextension install jupyterlab_tensorboard"
   ]
  },
  {
   "cell_type": "code",
   "execution_count": 31,
   "metadata": {},
   "outputs": [
    {
     "name": "stdout",
     "output_type": "stream",
     "text": [
      "Enabling tree extension jupyter_tensorboard/tree...\n",
      "      - Validating: \u001b[32mOK\u001b[0m\n",
      "Enabling: jupyter_tensorboard\n",
      "- Writing config: /home/jovyan/.jupyter\n",
      "    - Validating...\n",
      "      jupyter_tensorboard 0.1.10 \u001b[32mOK\u001b[0m\n"
     ]
    }
   ],
   "source": [
    "!jupyter tensorboard enable --user"
   ]
  },
  {
   "cell_type": "markdown",
   "metadata": {},
   "source": [
    "### Components"
   ]
  },
  {
   "cell_type": "code",
   "execution_count": 3,
   "metadata": {
    "collapsed": true,
    "jupyter": {
     "outputs_hidden": true
    }
   },
   "outputs": [
    {
     "name": "stdout",
     "output_type": "stream",
     "text": [
      "Requirement already satisfied: tensorflow==2.0 in /opt/conda/lib/python3.7/site-packages (2.0.0)\n",
      "Requirement already satisfied: tensorboard==2.0.0 in /opt/conda/lib/python3.7/site-packages (2.0.0)\n",
      "Requirement already satisfied: grpcio==1.24.3 in /opt/conda/lib/python3.7/site-packages (1.24.3)\n",
      "Requirement already satisfied: tensorflow-estimator<2.1.0,>=2.0.0 in /opt/conda/lib/python3.7/site-packages (from tensorflow==2.0) (2.0.1)\n",
      "Requirement already satisfied: wrapt>=1.11.1 in /opt/conda/lib/python3.7/site-packages (from tensorflow==2.0) (1.11.2)\n",
      "Requirement already satisfied: astor>=0.6.0 in /opt/conda/lib/python3.7/site-packages (from tensorflow==2.0) (0.8.0)\n",
      "Requirement already satisfied: six>=1.10.0 in /opt/conda/lib/python3.7/site-packages (from tensorflow==2.0) (1.13.0)\n",
      "Requirement already satisfied: termcolor>=1.1.0 in /opt/conda/lib/python3.7/site-packages (from tensorflow==2.0) (1.1.0)\n",
      "Requirement already satisfied: keras-preprocessing>=1.0.5 in /opt/conda/lib/python3.7/site-packages (from tensorflow==2.0) (1.1.0)\n",
      "Requirement already satisfied: numpy<2.0,>=1.16.0 in /opt/conda/lib/python3.7/site-packages (from tensorflow==2.0) (1.17.4)\n",
      "Requirement already satisfied: opt-einsum>=2.3.2 in /opt/conda/lib/python3.7/site-packages (from tensorflow==2.0) (3.1.0)\n",
      "Requirement already satisfied: google-pasta>=0.1.6 in /opt/conda/lib/python3.7/site-packages (from tensorflow==2.0) (0.1.8)\n",
      "Requirement already satisfied: protobuf>=3.6.1 in /opt/conda/lib/python3.7/site-packages (from tensorflow==2.0) (3.11.0)\n",
      "Requirement already satisfied: keras-applications>=1.0.8 in /opt/conda/lib/python3.7/site-packages (from tensorflow==2.0) (1.0.8)\n",
      "Requirement already satisfied: wheel>=0.26 in /opt/conda/lib/python3.7/site-packages (from tensorflow==2.0) (0.33.6)\n",
      "Requirement already satisfied: gast==0.2.2 in /opt/conda/lib/python3.7/site-packages (from tensorflow==2.0) (0.2.2)\n",
      "Requirement already satisfied: absl-py>=0.7.0 in /opt/conda/lib/python3.7/site-packages (from tensorflow==2.0) (0.8.1)\n",
      "Requirement already satisfied: werkzeug>=0.11.15 in /opt/conda/lib/python3.7/site-packages (from tensorboard==2.0.0) (0.16.0)\n",
      "Requirement already satisfied: markdown>=2.6.8 in /opt/conda/lib/python3.7/site-packages (from tensorboard==2.0.0) (3.1.1)\n",
      "Requirement already satisfied: setuptools>=41.0.0 in /opt/conda/lib/python3.7/site-packages (from tensorboard==2.0.0) (41.6.0.post20191101)\n",
      "Requirement already satisfied: h5py in /opt/conda/lib/python3.7/site-packages (from keras-applications>=1.0.8->tensorflow==2.0) (2.10.0)\n"
     ]
    }
   ],
   "source": [
    "!pip install tensorflow==2.0 tensorboard==2.0.0 grpcio==1.24.3"
   ]
  },
  {
   "cell_type": "markdown",
   "metadata": {},
   "source": [
    "### TFDV Basic needs tf1.15"
   ]
  },
  {
   "cell_type": "code",
   "execution_count": null,
   "metadata": {},
   "outputs": [],
   "source": [
    "# Import tf2 module but behave as v1\n",
    "import tensorflow.compat.v1 as tf\n",
    "tf.disable_v2_behavior()"
   ]
  },
  {
   "cell_type": "markdown",
   "metadata": {},
   "source": [
    "### TFMA Jupter extensions"
   ]
  },
  {
   "cell_type": "code",
   "execution_count": 7,
   "metadata": {},
   "outputs": [
    {
     "name": "stdout",
     "output_type": "stream",
     "text": [
      "Enabling notebook extension jupyter-js-widgets/extension...\n",
      "      - Validating: \u001b[32mOK\u001b[0m\n"
     ]
    }
   ],
   "source": [
    "!jupyter nbextension enable --py widgetsnbextension"
   ]
  },
  {
   "cell_type": "code",
   "execution_count": 8,
   "metadata": {},
   "outputs": [
    {
     "name": "stdout",
     "output_type": "stream",
     "text": [
      "Installing /opt/conda/lib/python3.7/site-packages/tensorflow_model_analysis/static -> tfma_widget_js\n",
      "Traceback (most recent call last):\n",
      "  File \"/opt/conda/bin/jupyter-nbextension\", line 11, in <module>\n",
      "    sys.exit(main())\n",
      "  File \"/opt/conda/lib/python3.7/site-packages/jupyter_core/application.py\", line 267, in launch_instance\n",
      "    return super(JupyterApp, cls).launch_instance(argv=argv, **kwargs)\n",
      "  File \"/opt/conda/lib/python3.7/site-packages/traitlets/config/application.py\", line 664, in launch_instance\n",
      "    app.start()\n",
      "  File \"/opt/conda/lib/python3.7/site-packages/notebook/nbextensions.py\", line 988, in start\n",
      "    super(NBExtensionApp, self).start()\n",
      "  File \"/opt/conda/lib/python3.7/site-packages/jupyter_core/application.py\", line 256, in start\n",
      "    self.subapp.start()\n",
      "  File \"/opt/conda/lib/python3.7/site-packages/notebook/nbextensions.py\", line 716, in start\n",
      "    self.install_extensions()\n",
      "  File \"/opt/conda/lib/python3.7/site-packages/notebook/nbextensions.py\", line 695, in install_extensions\n",
      "    **kwargs\n",
      "  File \"/opt/conda/lib/python3.7/site-packages/notebook/nbextensions.py\", line 225, in install_nbextension_python\n",
      "    destination=dest, logger=logger\n",
      "  File \"/opt/conda/lib/python3.7/site-packages/notebook/nbextensions.py\", line 126, in install_nbextension\n",
      "    ensure_dir_exists(nbext)\n",
      "  File \"/opt/conda/lib/python3.7/site-packages/jupyter_core/utils/__init__.py\", line 13, in ensure_dir_exists\n",
      "    os.makedirs(path, mode=mode)\n",
      "  File \"/opt/conda/lib/python3.7/os.py\", line 211, in makedirs\n",
      "    makedirs(head, exist_ok=exist_ok)\n",
      "  File \"/opt/conda/lib/python3.7/os.py\", line 221, in makedirs\n",
      "    mkdir(name, mode)\n",
      "PermissionError: [Errno 13] Permission denied: '/usr/local/share/jupyter'\n"
     ]
    }
   ],
   "source": [
    "!jupyter nbextension install --py --symlink tensorflow_model_analysis"
   ]
  },
  {
   "cell_type": "code",
   "execution_count": null,
   "metadata": {},
   "outputs": [],
   "source": [
    "!jupyter nbextension enable --py tensorflow_model_analysis"
   ]
  },
  {
   "cell_type": "code",
   "execution_count": null,
   "metadata": {},
   "outputs": [],
   "source": []
  },
  {
   "cell_type": "code",
   "execution_count": null,
   "metadata": {},
   "outputs": [],
   "source": []
  },
  {
   "cell_type": "code",
   "execution_count": null,
   "metadata": {},
   "outputs": [],
   "source": []
  },
  {
   "cell_type": "code",
   "execution_count": null,
   "metadata": {},
   "outputs": [],
   "source": []
  },
  {
   "cell_type": "markdown",
   "metadata": {},
   "source": [
    "Run this first to install the required python packages\n",
    "\n",
    "** Note: Use conda install -c conda-forge to avoid the installation of incompatible entries\n"
   ]
  },
  {
   "cell_type": "markdown",
   "metadata": {},
   "source": [
    "First install tensorflow 2"
   ]
  },
  {
   "cell_type": "code",
   "execution_count": null,
   "metadata": {},
   "outputs": [],
   "source": [
    "!conda install -c conda-forge -y tensorflow==2.0.0"
   ]
  },
  {
   "cell_type": "markdown",
   "metadata": {},
   "source": [
    "Second Apache Beam"
   ]
  },
  {
   "cell_type": "code",
   "execution_count": null,
   "metadata": {},
   "outputs": [],
   "source": [
    "!conda install -c conda-forge -y apache-beam"
   ]
  },
  {
   "cell_type": "markdown",
   "metadata": {},
   "source": [
    "Third is the python libraries tfx, tfdv, tfma\n",
    "NOTE: We're stuck with pip3 until they find their way into anaconda"
   ]
  },
  {
   "cell_type": "code",
   "execution_count": null,
   "metadata": {},
   "outputs": [],
   "source": [
    "!conda install -c conda-forge tfx==0.15.0"
   ]
  },
  {
   "cell_type": "code",
   "execution_count": null,
   "metadata": {},
   "outputs": [],
   "source": [
    "!conda install -c conda-forge tensorflow-data-validation"
   ]
  },
  {
   "cell_type": "code",
   "execution_count": null,
   "metadata": {},
   "outputs": [],
   "source": [
    "!conda install -c conda-forge  tensorflow_transform"
   ]
  }
 ],
 "metadata": {
  "kernelspec": {
   "display_name": "Python 3",
   "language": "python",
   "name": "python3"
  },
  "language_info": {
   "codemirror_mode": {
    "name": "ipython",
    "version": 3
   },
   "file_extension": ".py",
   "mimetype": "text/x-python",
   "name": "python",
   "nbconvert_exporter": "python",
   "pygments_lexer": "ipython3",
   "version": "3.7.3"
  }
 },
 "nbformat": 4,
 "nbformat_minor": 4
}
