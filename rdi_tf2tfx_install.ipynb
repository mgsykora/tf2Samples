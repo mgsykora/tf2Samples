{
 "cells": [
  {
   "cell_type": "markdown",
   "metadata": {
    "slideshow": {
     "slide_type": "fragment"
    }
   },
   "source": [
    "Docker host jupyter/minimal-notebook"
   ]
  },
  {
   "cell_type": "code",
   "execution_count": 1,
   "metadata": {},
   "outputs": [
    {
     "name": "stdout",
     "output_type": "stream",
     "text": [
      "alembic==1.3.0\n",
      "async-generator==1.10\n",
      "attrs==19.3.0\n",
      "backcall==0.1.0\n",
      "bleach==3.1.0\n",
      "blinker==1.4\n",
      "certifi==2019.9.11\n",
      "certipy==0.1.3\n",
      "cffi==1.13.2\n",
      "chardet==3.0.4\n",
      "conda==4.7.12\n",
      "conda-package-handling==1.6.0\n",
      "cryptography==2.8\n",
      "decorator==4.4.1\n",
      "defusedxml==0.6.0\n",
      "entrypoints==0.3\n",
      "idna==2.8\n",
      "importlib-metadata==0.23\n",
      "ipykernel==5.1.3\n",
      "ipython==7.9.0\n",
      "ipython-genutils==0.2.0\n",
      "jedi==0.15.1\n",
      "Jinja2==2.10.3\n",
      "json5==0.8.5\n",
      "jsonschema==3.1.1\n",
      "jupyter-client==5.3.3\n",
      "jupyter-core==4.5.0\n",
      "jupyterhub==1.0.0\n",
      "jupyterlab==1.2.1\n",
      "jupyterlab-server==1.0.6\n",
      "Mako==1.1.0\n",
      "MarkupSafe==1.1.1\n",
      "mistune==0.8.4\n",
      "more-itertools==7.2.0\n",
      "nbconvert==5.6.1\n",
      "nbformat==4.4.0\n",
      "notebook==6.0.0\n",
      "oauthlib==3.0.1\n",
      "pamela==1.0.0\n",
      "pandocfilters==1.4.2\n",
      "parso==0.5.1\n",
      "pexpect==4.7.0\n",
      "pickleshare==0.7.5\n",
      "prometheus-client==0.7.1\n",
      "prompt-toolkit==2.0.10\n",
      "ptyprocess==0.6.0\n",
      "pycosat==0.6.3\n",
      "pycparser==2.19\n",
      "pycurl==7.43.0.3\n",
      "Pygments==2.4.2\n",
      "PyJWT==1.7.1\n",
      "pyOpenSSL==19.0.0\n",
      "pyrsistent==0.15.5\n",
      "PySocks==1.7.1\n",
      "python-dateutil==2.8.1\n",
      "python-editor==1.0.4\n",
      "pyzmq==18.1.0\n",
      "requests==2.22.0\n",
      "ruamel-yaml==0.15.71\n",
      "Send2Trash==1.5.0\n",
      "six==1.13.0\n",
      "SQLAlchemy==1.3.10\n",
      "terminado==0.8.2\n",
      "testpath==0.4.4\n",
      "tornado==6.0.3\n",
      "tqdm==4.37.0\n",
      "traitlets==4.3.3\n",
      "urllib3==1.25.6\n",
      "wcwidth==0.1.7\n",
      "webencodings==0.5.1\n",
      "zipp==0.6.0\n"
     ]
    }
   ],
   "source": [
    "!pip freeze"
   ]
  },
  {
   "cell_type": "markdown",
   "metadata": {},
   "source": [
    "### Components\n",
    "Bump the key nodes up to 2.0, remove the tripping block PyAML==5.1"
   ]
  },
  {
   "cell_type": "code",
   "execution_count": 2,
   "metadata": {},
   "outputs": [
    {
     "name": "stdout",
     "output_type": "stream",
     "text": [
      "Collecting package metadata (current_repodata.json): done\n",
      "Solving environment: done\n",
      "\n",
      "\n",
      "==> WARNING: A newer version of conda exists. <==\n",
      "  current version: 4.7.12\n",
      "  latest version: 4.8.0\n",
      "\n",
      "Please update conda by running\n",
      "\n",
      "    $ conda update -n base conda\n",
      "\n",
      "\n",
      "\n",
      "## Package Plan ##\n",
      "\n",
      "  environment location: /opt/conda\n",
      "\n",
      "  added / updated specs:\n",
      "    - pyyaml==3.13\n",
      "\n",
      "\n",
      "The following packages will be downloaded:\n",
      "\n",
      "    package                    |            build\n",
      "    ---------------------------|-----------------\n",
      "    ca-certificates-2019.11.28 |       hecc5488_0         145 KB  conda-forge\n",
      "    certifi-2019.11.28         |           py37_0         148 KB  conda-forge\n",
      "    pyyaml-3.13                |py37h14c3975_1001         176 KB  conda-forge\n",
      "    ------------------------------------------------------------\n",
      "                                           Total:         470 KB\n",
      "\n",
      "The following NEW packages will be INSTALLED:\n",
      "\n",
      "  pyyaml             conda-forge/linux-64::pyyaml-3.13-py37h14c3975_1001\n",
      "\n",
      "The following packages will be UPDATED:\n",
      "\n",
      "  ca-certificates                      2019.9.11-hecc5488_0 --> 2019.11.28-hecc5488_0\n",
      "  certifi                                  2019.9.11-py37_0 --> 2019.11.28-py37_0\n",
      "\n",
      "\n",
      "\n",
      "Downloading and Extracting Packages\n",
      "certifi-2019.11.28   | 148 KB    | ##################################### | 100% \n",
      "ca-certificates-2019 | 145 KB    | ##################################### | 100% \n",
      "pyyaml-3.13          | 176 KB    | ##################################### | 100% \n",
      "Preparing transaction: done\n",
      "Verifying transaction: done\n",
      "Executing transaction: done\n"
     ]
    }
   ],
   "source": [
    "!conda install -y PyYAML==3.13"
   ]
  },
  {
   "cell_type": "code",
   "execution_count": 3,
   "metadata": {},
   "outputs": [
    {
     "name": "stdout",
     "output_type": "stream",
     "text": [
      "\u001b[33mWARNING: The directory '/home/jovyan/.cache/pip/http' or its parent directory is not owned by the current user and the cache has been disabled. Please check the permissions and owner of that directory. If executing pip with sudo, you may want sudo's -H flag.\u001b[0m\n",
      "\u001b[33mWARNING: The directory '/home/jovyan/.cache/pip' or its parent directory is not owned by the current user and caching wheels has been disabled. check the permissions and owner of that directory. If executing pip with sudo, you may want sudo's -H flag.\u001b[0m\n",
      "Collecting tensorflow==2.0\n",
      "\u001b[?25l  Downloading https://files.pythonhosted.org/packages/2a/5c/f1d66de5dde6f3ff528f6ea1fd0757a0e594d17debb3ec7f82daa967ea9a/tensorflow-2.0.0-cp37-cp37m-manylinux2010_x86_64.whl (86.3MB)\n",
      "\u001b[K     |████████████████████████████████| 86.3MB 4.1MB/s eta 0:00:01    |▊                               | 1.9MB 1.3MB/s eta 0:01:06     |██                              | 5.2MB 1.3MB/s eta 0:01:03     |██                              | 5.6MB 1.3MB/s eta 0:01:03     |██▎                             | 6.2MB 1.3MB/s eta 0:01:02     |██▊                             | 7.3MB 5.2MB/s eta 0:00:16     |███▌                            | 9.4MB 5.2MB/s eta 0:00:15     |████▋                           | 12.3MB 4.0MB/s eta 0:00:19     |█████▏                          | 14.0MB 4.0MB/s eta 0:00:19     |█████▋                          | 15.2MB 4.0MB/s eta 0:00:18     |██████                          | 16.1MB 4.0MB/s eta 0:00:18     |███████                         | 18.9MB 6.6MB/s eta 0:00:11     |████████                        | 21.7MB 6.6MB/s eta 0:00:10     |████████▏                       | 22.0MB 6.6MB/s eta 0:00:10     |████████▍                       | 22.7MB 6.6MB/s eta 0:00:10     |████████▌                       | 23.0MB 6.6MB/s eta 0:00:10     |█████████▋                      | 26.1MB 4.1MB/s eta 0:00:15     |█████████▉                      | 26.4MB 4.1MB/s eta 0:00:15     |██████████                      | 27.1MB 4.1MB/s eta 0:00:15     |██████████▏                     | 27.5MB 4.1MB/s eta 0:00:15     |██████████▊                     | 28.9MB 4.1MB/s eta 0:00:14     |███████████                     | 29.5MB 4.1MB/s eta 0:00:14     |███████████                     | 29.7MB 4.9MB/s eta 0:00:12     |███████████▎                    | 30.4MB 4.9MB/s eta 0:00:12     |███████████▌                    | 30.9MB 4.9MB/s eta 0:00:12     |███████████▌                    | 31.2MB 4.9MB/s eta 0:00:12     |████████████▏                   | 32.8MB 4.9MB/s eta 0:00:11     |████████████▎                   | 33.1MB 4.9MB/s eta 0:00:11     |█████████████                   | 35.2MB 3.5MB/s eta 0:00:15     |█████████████▎                  | 35.9MB 3.5MB/s eta 0:00:15     |██████████████▎                 | 38.4MB 3.5MB/s eta 0:00:14     |███████████████                 | 40.3MB 3.5MB/s eta 0:00:14     |███████████████                 | 40.6MB 3.5MB/s eta 0:00:14     |█████████████████               | 45.9MB 6.9MB/s eta 0:00:06     |█████████████████▎              | 46.7MB 6.9MB/s eta 0:00:06     |█████████████████▍              | 47.0MB 6.9MB/s eta 0:00:06     |█████████████████▉              | 48.1MB 7.6MB/s eta 0:00:06     |██████████████████              | 48.5MB 7.6MB/s eta 0:00:05     |██████████████████▎             | 49.3MB 7.6MB/s eta 0:00:05     |██████████████████▊             | 50.5MB 7.6MB/s eta 0:00:05     |███████████████████▏            | 51.8MB 7.6MB/s eta 0:00:05     |███████████████████▍            | 52.3MB 7.6MB/s eta 0:00:05     |██████████████████████▉         | 61.5MB 5.0MB/s eta 0:00:05     |███████████████████████         | 61.9MB 7.3MB/s eta 0:00:04     |███████████████████████▌        | 63.5MB 7.3MB/s eta 0:00:04     |████████████████████████▊       | 66.8MB 7.3MB/s eta 0:00:03     |█████████████████████████       | 67.2MB 7.3MB/s eta 0:00:03     |█████████████████████████▎      | 68.3MB 2.3MB/s eta 0:00:08     |█████████████████████████▋      | 69.0MB 2.3MB/s eta 0:00:08     |██████████████████████████▉     | 72.4MB 2.3MB/s eta 0:00:07     |███████████████████████████     | 72.9MB 2.3MB/s eta 0:00:06     |███████████████████████████▋    | 74.5MB 5.7MB/s eta 0:00:03     |████████████████████████████    | 75.6MB 5.7MB/s eta 0:00:02     |████████████████████████████▊   | 77.4MB 5.7MB/s eta 0:00:02     |█████████████████████████████   | 78.1MB 2.6MB/s eta 0:00:04     |█████████████████████████████▎  | 79.0MB 2.6MB/s eta 0:00:03     |█████████████████████████████▊  | 80.1MB 2.6MB/s eta 0:00:03     |██████████████████████████████  | 80.7MB 2.6MB/s eta 0:00:03     |██████████████████████████████▏ | 81.3MB 2.6MB/s eta 0:00:02     |██████████████████████████████▏ | 81.5MB 2.6MB/s eta 0:00:02     |██████████████████████████████▌ | 82.3MB 5.3MB/s eta 0:00:01     |██████████████████████████████▊ | 83.0MB 5.3MB/s eta 0:00:01     |███████████████████████████████ | 83.8MB 5.3MB/s eta 0:00:01     |███████████████████████████████▎| 84.2MB 5.3MB/s eta 0:00:01     |███████████████████████████████▎| 84.5MB 5.3MB/s eta 0:00:01     |████████████████████████████████| 86.2MB 4.1MB/s eta 0:00:01\n",
      "\u001b[?25hCollecting tensorboard==2.0.0\n",
      "\u001b[?25l  Downloading https://files.pythonhosted.org/packages/9b/a6/e8ffa4e2ddb216449d34cfcb825ebb38206bee5c4553d69e7bc8bc2c5d64/tensorboard-2.0.0-py3-none-any.whl (3.8MB)\n",
      "\u001b[K     |████████████████████████████████| 3.8MB 1.6MB/s eta 0:00:01     |██████                          | 706kB 5.8MB/s eta 0:00:01     |██████████████████████████████  | 3.5MB 5.8MB/s eta 0:00:01\n",
      "\u001b[?25hCollecting grpcio==1.24.3\n",
      "\u001b[?25l  Downloading https://files.pythonhosted.org/packages/b9/ba/254011b066e6675411ba913dafd6e40ce8d3235bebf64fb226a7305f29ac/grpcio-1.24.3-cp37-cp37m-manylinux2010_x86_64.whl (2.2MB)\n",
      "\u001b[K     |████████████████████████████████| 2.2MB 2.6MB/s eta 0:00:01     |████████████████████████████▏   | 1.9MB 2.6MB/s eta 0:00:01\n",
      "\u001b[?25hCollecting absl-py>=0.7.0\n",
      "\u001b[?25l  Downloading https://files.pythonhosted.org/packages/1a/53/9243c600e047bd4c3df9e69cfabc1e8004a82cac2e0c484580a78a94ba2a/absl-py-0.9.0.tar.gz (104kB)\n",
      "\u001b[K     |████████████████████████████████| 112kB 1.7MB/s eta 0:00:01\n",
      "\u001b[?25hCollecting keras-applications>=1.0.8\n",
      "\u001b[?25l  Downloading https://files.pythonhosted.org/packages/71/e3/19762fdfc62877ae9102edf6342d71b28fbfd9dea3d2f96a882ce099b03f/Keras_Applications-1.0.8-py3-none-any.whl (50kB)\n",
      "\u001b[K     |████████████████████████████████| 51kB 2.5MB/s eta 0:00:011\n",
      "\u001b[?25hCollecting numpy<2.0,>=1.16.0\n",
      "\u001b[?25l  Downloading https://files.pythonhosted.org/packages/63/0c/0261693cc3ad8e2b66e66dc2d2676a2cc17d3efb1c58a70db73754320e47/numpy-1.18.1-cp37-cp37m-manylinux1_x86_64.whl (20.1MB)\n",
      "\u001b[K     |████████████████████████████████| 20.1MB 5.3MB/s eta 0:00:01    |▎                               | 174kB 2.1MB/s eta 0:00:10     |██                              | 1.2MB 2.1MB/s eta 0:00:10     |██▎                             | 1.4MB 2.1MB/s eta 0:00:10     |█████                           | 3.2MB 2.9MB/s eta 0:00:06     |█████████████                   | 8.2MB 3.0MB/s eta 0:00:05     |███████████████▋                | 9.8MB 3.0MB/s eta 0:00:04     |████████████████▍               | 10.3MB 4.3MB/s eta 0:00:03     |██████████████████████▎         | 14.0MB 4.3MB/s eta 0:00:02     |██████████████████████▌         | 14.2MB 4.3MB/s eta 0:00:02     |████████████████████████████▋   | 18.0MB 2.0MB/s eta 0:00:02     |██████████████████████████████▉ | 19.4MB 5.3MB/s eta 0:00:01\n",
      "\u001b[?25hCollecting astor>=0.6.0\n",
      "  Downloading https://files.pythonhosted.org/packages/c3/88/97eef84f48fa04fbd6750e62dcceafba6c63c81b7ac1420856c8dcc0a3f9/astor-0.8.1-py2.py3-none-any.whl\n",
      "Collecting keras-preprocessing>=1.0.5\n",
      "\u001b[?25l  Downloading https://files.pythonhosted.org/packages/28/6a/8c1f62c37212d9fc441a7e26736df51ce6f0e38455816445471f10da4f0a/Keras_Preprocessing-1.1.0-py2.py3-none-any.whl (41kB)\n",
      "\u001b[K     |████████████████████████████████| 51kB 13.1MB/s eta 0:00:01\n",
      "\u001b[?25hCollecting protobuf>=3.6.1\n",
      "\u001b[?25l  Downloading https://files.pythonhosted.org/packages/4a/14/f5c294f1e36a031f165128c25feba93b3116f15a74398d0b2747ed75744f/protobuf-3.11.2-cp37-cp37m-manylinux1_x86_64.whl (1.3MB)\n",
      "\u001b[K     |████████████████████████████████| 1.3MB 2.8MB/s eta 0:00:01     |█▎                              | 51kB 2.9MB/s eta 0:00:01\n",
      "\u001b[?25hCollecting termcolor>=1.1.0\n",
      "  Downloading https://files.pythonhosted.org/packages/8a/48/a76be51647d0eb9f10e2a4511bf3ffb8cc1e6b14e9e4fab46173aa79f981/termcolor-1.1.0.tar.gz\n",
      "Collecting wrapt>=1.11.1\n",
      "  Downloading https://files.pythonhosted.org/packages/23/84/323c2415280bc4fc880ac5050dddfb3c8062c2552b34c2e512eb4aa68f79/wrapt-1.11.2.tar.gz\n",
      "Collecting google-pasta>=0.1.6\n",
      "\u001b[?25l  Downloading https://files.pythonhosted.org/packages/c3/fd/1e86bc4837cc9a3a5faf3db9b1854aa04ad35b5f381f9648fbe81a6f94e4/google_pasta-0.1.8-py3-none-any.whl (57kB)\n",
      "\u001b[K     |████████████████████████████████| 61kB 15.0MB/s eta 0:00:01\n",
      "\u001b[?25hCollecting opt-einsum>=2.3.2\n",
      "\u001b[?25l  Downloading https://files.pythonhosted.org/packages/b8/83/755bd5324777875e9dff19c2e59daec837d0378c09196634524a3d7269ac/opt_einsum-3.1.0.tar.gz (69kB)\n",
      "\u001b[K     |████████████████████████████████| 71kB 4.1MB/s  eta 0:00:01\n",
      "\u001b[?25hCollecting gast==0.2.2\n",
      "  Downloading https://files.pythonhosted.org/packages/4e/35/11749bf99b2d4e3cceb4d55ca22590b0d7c2c62b9de38ac4a4a7f4687421/gast-0.2.2.tar.gz\n",
      "Requirement already satisfied: six>=1.10.0 in /opt/conda/lib/python3.7/site-packages (from tensorflow==2.0) (1.13.0)\n",
      "Collecting tensorflow-estimator<2.1.0,>=2.0.0\n",
      "\u001b[?25l  Downloading https://files.pythonhosted.org/packages/fc/08/8b927337b7019c374719145d1dceba21a8bb909b93b1ad6f8fb7d22c1ca1/tensorflow_estimator-2.0.1-py2.py3-none-any.whl (449kB)\n",
      "\u001b[K     |████████████████████████████████| 450kB 5.0MB/s eta 0:00:01\n",
      "\u001b[?25hRequirement already satisfied: wheel>=0.26 in /opt/conda/lib/python3.7/site-packages (from tensorflow==2.0) (0.33.6)\n",
      "Collecting werkzeug>=0.11.15\n",
      "\u001b[?25l  Downloading https://files.pythonhosted.org/packages/ce/42/3aeda98f96e85fd26180534d36570e4d18108d62ae36f87694b476b83d6f/Werkzeug-0.16.0-py2.py3-none-any.whl (327kB)\n",
      "\u001b[K     |████████████████████████████████| 327kB 1.4MB/s eta 0:00:01\n",
      "\u001b[?25hRequirement already satisfied: setuptools>=41.0.0 in /opt/conda/lib/python3.7/site-packages (from tensorboard==2.0.0) (41.6.0.post20191101)\n",
      "Collecting markdown>=2.6.8\n",
      "\u001b[?25l  Downloading https://files.pythonhosted.org/packages/c0/4e/fd492e91abdc2d2fcb70ef453064d980688762079397f779758e055f6575/Markdown-3.1.1-py2.py3-none-any.whl (87kB)\n",
      "\u001b[K     |████████████████████████████████| 92kB 4.4MB/s eta 0:00:011\n",
      "\u001b[?25hCollecting h5py\n",
      "\u001b[?25l  Downloading https://files.pythonhosted.org/packages/3f/c0/abde58b837e066bca19a3f7332d9d0493521d7dd6b48248451a9e3fe2214/h5py-2.10.0-cp37-cp37m-manylinux1_x86_64.whl (2.9MB)\n",
      "\u001b[K     |████████████████████████████████| 2.9MB 2.3MB/s eta 0:00:01     |████████████████████████▎       | 2.2MB 2.8MB/s eta 0:00:01     |██████████████████████████████▏ | 2.7MB 2.8MB/s eta 0:00:01\n",
      "\u001b[?25hBuilding wheels for collected packages: absl-py, termcolor, wrapt, opt-einsum, gast\n",
      "  Building wheel for absl-py (setup.py) ... \u001b[?25ldone\n",
      "\u001b[?25h  Created wheel for absl-py: filename=absl_py-0.9.0-cp37-none-any.whl size=121932 sha256=b4ac4f5077639eb4bedbb22a80df75fd4f1fc8ea882171f6162cc1517eafb3e7\n",
      "  Stored in directory: /home/jovyan/.cache/pip/wheels/8e/28/49/fad4e7f0b9a1227708cbbee4487ac8558a7334849cb81c813d\n",
      "  Building wheel for termcolor (setup.py) ... \u001b[?25ldone\n",
      "\u001b[?25h  Created wheel for termcolor: filename=termcolor-1.1.0-cp37-none-any.whl size=4832 sha256=572f33da61a4023b499ce2d0b2980921020799b3134431636708aa45bef9aaeb\n",
      "  Stored in directory: /home/jovyan/.cache/pip/wheels/7c/06/54/bc84598ba1daf8f970247f550b175aaaee85f68b4b0c5ab2c6\n",
      "  Building wheel for wrapt (setup.py) ... \u001b[?25ldone\n",
      "\u001b[?25h  Created wheel for wrapt: filename=wrapt-1.11.2-cp37-cp37m-linux_x86_64.whl size=70689 sha256=5f872dcfa22ac2d60d87faa9995c80e79076ef5fa450cc1b0d40a6354b52d0ef\n",
      "  Stored in directory: /home/jovyan/.cache/pip/wheels/d7/de/2e/efa132238792efb6459a96e85916ef8597fcb3d2ae51590dfd\n",
      "  Building wheel for opt-einsum (setup.py) ... \u001b[?25ldone\n",
      "\u001b[?25h  Created wheel for opt-einsum: filename=opt_einsum-3.1.0-cp37-none-any.whl size=61682 sha256=502eba512ebdae55d9dc0cffd0f3b4c70a1fa71ace3e23f65f6838f1ea642dd0\n",
      "  Stored in directory: /home/jovyan/.cache/pip/wheels/2c/b1/94/43d03e130b929aae7ba3f8d15cbd7bc0d1cb5bb38a5c721833\n",
      "  Building wheel for gast (setup.py) ... \u001b[?25ldone\n",
      "\u001b[?25h  Created wheel for gast: filename=gast-0.2.2-cp37-none-any.whl size=7540 sha256=64f3045768b7f9caf795dc427f39c8226b7c7b950d6707c8d5c27d1e068edbab\n",
      "  Stored in directory: /home/jovyan/.cache/pip/wheels/5c/2e/7e/a1d4d4fcebe6c381f378ce7743a3ced3699feb89bcfbdadadd\n",
      "Successfully built absl-py termcolor wrapt opt-einsum gast\n",
      "Installing collected packages: absl-py, numpy, h5py, keras-applications, astor, keras-preprocessing, protobuf, grpcio, werkzeug, markdown, tensorboard, termcolor, wrapt, google-pasta, opt-einsum, gast, tensorflow-estimator, tensorflow\n",
      "Successfully installed absl-py-0.9.0 astor-0.8.1 gast-0.2.2 google-pasta-0.1.8 grpcio-1.24.3 h5py-2.10.0 keras-applications-1.0.8 keras-preprocessing-1.1.0 markdown-3.1.1 numpy-1.18.1 opt-einsum-3.1.0 protobuf-3.11.2 tensorboard-2.0.0 tensorflow-2.0.0 tensorflow-estimator-2.0.1 termcolor-1.1.0 werkzeug-0.16.0 wrapt-1.11.2\n"
     ]
    }
   ],
   "source": [
    "!sudo pip install tensorflow==2.0 tensorboard==2.0.0 grpcio==1.24.3"
   ]
  },
  {
   "cell_type": "markdown",
   "metadata": {},
   "source": [
    "Let's start with the pip install for necessay components\n",
    "This can create incompatible entries\n",
    "And install may leave tf 1.15"
   ]
  },
  {
   "cell_type": "code",
   "execution_count": 4,
   "metadata": {},
   "outputs": [
    {
     "name": "stdout",
     "output_type": "stream",
     "text": [
      "Collecting tfx==0.15.0\n",
      "\u001b[?25l  Downloading https://files.pythonhosted.org/packages/27/ef/07522116d0680934ade5622322af06ed55d9820c3c23a7d97b62db1438db/tfx-0.15.0-py3-none-any.whl (504kB)\n",
      "\u001b[K     |████████████████████████████████| 512kB 1.1MB/s eta 0:00:01    |████                            | 61kB 1.1MB/s eta 0:00:01     |██████████████████████▊         | 358kB 1.1MB/s eta 0:00:01\n",
      "\u001b[?25hCollecting tensorflow-data-validation==0.15.0\n",
      "\u001b[?25l  Downloading https://files.pythonhosted.org/packages/ab/eb/31aa15dc78a98c891e061869895d7f204a8a5eb30c4d766fc1de9ab83842/tensorflow_data_validation-0.15.0-cp37-cp37m-manylinux2010_x86_64.whl (2.3MB)\n",
      "\u001b[K     |████████████████████████████████| 2.3MB 2.7MB/s eta 0:00:01     |████████████▌                   | 901kB 2.7MB/s eta 0:00:01     |███████████████▉                | 1.1MB 2.7MB/s eta 0:00:01     |████████████████████████▉       | 1.8MB 2.7MB/s eta 0:00:01\n",
      "\u001b[?25hCollecting tensorflow_transform==0.15.0\n",
      "\u001b[?25l  Downloading https://files.pythonhosted.org/packages/34/88/9ee55045a1ffbf44fb75b10a30c54609f58987987f69ace9b971938e750d/tensorflow-transform-0.15.0.tar.gz (222kB)\n",
      "\u001b[K     |████████████████████████████████| 225kB 5.5MB/s eta 0:00:01\n",
      "\u001b[?25hCollecting tensorflow_model_analysis==0.15.4\n",
      "\u001b[?25l  Downloading https://files.pythonhosted.org/packages/53/4e/ef4b73ba74c4c4cafffdc69a3907323fc4d18b37712ef9172d9d18533db0/tensorflow_model_analysis-0.15.4-py3-none-any.whl (1.4MB)\n",
      "\u001b[K     |████████████████████████████████| 1.4MB 5.3MB/s eta 0:00:01     |██████████▌                     | 460kB 5.3MB/s eta 0:00:01     |████████████████                | 696kB 5.3MB/s eta 0:00:01\n",
      "\u001b[?25hCollecting apache-beam[gcp]<3,>=2.16\n",
      "\u001b[?25l  Downloading https://files.pythonhosted.org/packages/cc/24/40563650d7bc9a01fc890448a52b77a7ad0a0d375a1a995f6fa6358f6c46/apache_beam-2.17.0-cp37-cp37m-manylinux1_x86_64.whl (3.0MB)\n",
      "\u001b[K     |████████████████████████████████| 3.0MB 5.6MB/s eta 0:00:01     |██                              | 184kB 5.6MB/s eta 0:00:01     |███████████████                 | 1.4MB 5.6MB/s eta 0:00:01     |██████████████████████████▊     | 2.5MB 5.6MB/s eta 0:00:01     |██████████████████████████████  | 2.8MB 5.6MB/s eta 0:00:01\n",
      "\u001b[?25hRequirement already satisfied: six<2,>=1.10 in /opt/conda/lib/python3.7/site-packages (from tfx==0.15.0) (1.13.0)\n",
      "Requirement already satisfied: tensorflow<3,>=1.15 in /opt/conda/lib/python3.7/site-packages (from tfx==0.15.0) (2.0.0)\n",
      "Collecting ml-metadata<0.16,>=0.15.0rc0\n",
      "\u001b[?25l  Downloading https://files.pythonhosted.org/packages/45/1b/45a5fcb533c4bb9c68986d34638e2af252b3c596a83be7cb78e31c006b55/ml_metadata-0.15.2-cp37-cp37m-manylinux2010_x86_64.whl (4.9MB)\n",
      "\u001b[K     |████████████████████████████████| 4.9MB 2.4MB/s eta 0:00:011     |███████████                     | 1.7MB 14.1MB/s eta 0:00:01     |██████████████▌                 | 2.2MB 14.1MB/s eta 0:00:01     |██████████████████▎             | 2.8MB 14.1MB/s eta 0:00:01     |██████████████████████████▎     | 4.0MB 14.1MB/s eta 0:00:01     |███████████████████████████     | 4.1MB 2.4MB/s eta 0:00:01     |███████████████████████████████▌| 4.8MB 2.4MB/s eta 0:00:01\n",
      "\u001b[?25hCollecting click<8,>=7\n",
      "\u001b[?25l  Downloading https://files.pythonhosted.org/packages/fa/37/45185cb5abbc30d7257104c434fe0b07e5a195a6847506c074527aa599ec/Click-7.0-py2.py3-none-any.whl (81kB)\n",
      "\u001b[K     |████████████████████████████████| 81kB 5.1MB/s eta 0:00:011\n",
      "\u001b[?25hCollecting google-api-python-client<2,>=1.7.8\n",
      "\u001b[?25l  Downloading https://files.pythonhosted.org/packages/5e/19/9fd511734c0dee8fa3d49f4109c75e7f95d3c31ed76c0e4a93fbba147807/google-api-python-client-1.7.11.tar.gz (142kB)\n",
      "\u001b[K     |████████████████████████████████| 143kB 5.1MB/s eta 0:00:01\n",
      "\u001b[?25hRequirement already satisfied: protobuf<4,>=3.7 in /opt/conda/lib/python3.7/site-packages (from tfx==0.15.0) (3.11.2)\n",
      "Requirement already satisfied: pyyaml<4,>=3.12 in /opt/conda/lib/python3.7/site-packages (from tfx==0.15.0) (3.13)\n",
      "Collecting absl-py<0.9,>=0.1.6\n",
      "\u001b[?25l  Downloading https://files.pythonhosted.org/packages/3b/72/e6e483e2db953c11efa44ee21c5fdb6505c4dffa447b4263ca8af6676b62/absl-py-0.8.1.tar.gz (103kB)\n",
      "\u001b[K     |████████████████████████████████| 112kB 5.5MB/s eta 0:00:01\n",
      "\u001b[?25hRequirement already satisfied: jinja2<3,>=2.7.3 in /opt/conda/lib/python3.7/site-packages (from tfx==0.15.0) (2.10.3)\n",
      "Collecting tfx-bsl<0.16,>=0.15.3\n",
      "\u001b[?25l  Downloading https://files.pythonhosted.org/packages/ed/fc/e016ef9e90c035cfba25d0c9d16f1faa11145a87e18ae7bc9560d20881dc/tfx_bsl-0.15.3-cp37-cp37m-manylinux2010_x86_64.whl (1.9MB)\n",
      "\u001b[K     |████████████████████████████████| 1.9MB 1.7MB/s eta 0:00:01     |███████▊                        | 450kB 1.7MB/s eta 0:00:01\n",
      "\u001b[?25hRequirement already satisfied: numpy<2,>=1.16 in /opt/conda/lib/python3.7/site-packages (from tensorflow-data-validation==0.15.0) (1.18.1)\n",
      "Collecting tensorflow-metadata<0.16,>=0.15\n",
      "  Downloading https://files.pythonhosted.org/packages/3b/0c/afb81ea6998f6e26521671585d1cd9d3f7945a8b9834764e91757453dc25/tensorflow_metadata-0.15.2-py2.py3-none-any.whl\n",
      "Requirement already satisfied: ipython>=5 in /opt/conda/lib/python3.7/site-packages (from tensorflow-data-validation==0.15.0) (7.9.0)\n",
      "Collecting scikit-learn<0.22,>=0.18\n",
      "\u001b[?25l  Downloading https://files.pythonhosted.org/packages/9f/c5/e5267eb84994e9a92a2c6a6ee768514f255d036f3c8378acfa694e9f2c99/scikit_learn-0.21.3-cp37-cp37m-manylinux1_x86_64.whl (6.7MB)\n",
      "\u001b[K     |████████████████████████████████| 6.7MB 419kB/s eta 0:00:01     |███▋                            | 757kB 3.7MB/s eta 0:00:02     |█████████████████▎              | 3.6MB 4.1MB/s eta 0:00:01     |█████████████████████████▉      | 5.4MB 4.1MB/s eta 0:00:01     |█████████████████████████████▌  | 6.2MB 4.1MB/s eta 0:00:01\n",
      "\u001b[?25hCollecting pandas<1,>=0.24\n",
      "\u001b[?25l  Downloading https://files.pythonhosted.org/packages/63/e0/a1b39cdcb2c391f087a1538bc8a6d62a82d0439693192aef541d7b123769/pandas-0.25.3-cp37-cp37m-manylinux1_x86_64.whl (10.4MB)\n",
      "\u001b[K     |████████████████████████████████| 10.4MB 2.4MB/s eta 0:00:01    |███████▋                        | 2.5MB 3.4MB/s eta 0:00:03     |██████████████████▍             | 6.0MB 3.3MB/s eta 0:00:02     |███████████████████▏            | 6.2MB 3.3MB/s eta 0:00:02\n",
      "\u001b[?25hCollecting joblib<0.15,>=0.12\n",
      "\u001b[?25l  Downloading https://files.pythonhosted.org/packages/28/5c/cf6a2b65a321c4a209efcdf64c2689efae2cb62661f8f6f4bb28547cf1bf/joblib-0.14.1-py2.py3-none-any.whl (294kB)\n",
      "\u001b[K     |████████████████████████████████| 296kB 1.6MB/s eta 0:00:01\n",
      "\u001b[?25hCollecting pyarrow<0.15,>=0.14\n",
      "\u001b[?25l  Downloading https://files.pythonhosted.org/packages/1a/ef/65cc820e4563c946592cb3d38f33bc342160943231ffae8a9550460f9bb7/pyarrow-0.14.1-cp37-cp37m-manylinux2010_x86_64.whl (58.1MB)\n",
      "\u001b[K     |████████████████████████████████| 58.1MB 83kB/s s eta 0:00:01   |▊                               | 1.3MB 2.7MB/s eta 0:00:21     |█                               | 1.7MB 2.7MB/s eta 0:00:21     |█▎                              | 2.4MB 2.7MB/s eta 0:00:21     |█▊                              | 3.0MB 2.0MB/s eta 0:00:28     |██▎                             | 4.2MB 2.0MB/s eta 0:00:28     |███▉                            | 7.0MB 2.7MB/s eta 0:00:20     |█████▎                          | 9.7MB 2.1MB/s eta 0:00:23     |██████                          | 10.9MB 2.1MB/s eta 0:00:23     |██████▊                         | 12.2MB 2.1MB/s eta 0:00:22     |████████                        | 14.4MB 3.7MB/s eta 0:00:12     |█████████▏                      | 16.6MB 2.7MB/s eta 0:00:16     |█████████▊                      | 17.7MB 2.7MB/s eta 0:00:15     |██████████▍                     | 19.0MB 2.7MB/s eta 0:00:15     |██████████▋                     | 19.2MB 2.7MB/s eta 0:00:15     |████████████▏                   | 22.1MB 3.3MB/s eta 0:00:12     |█████████████                   | 23.7MB 3.3MB/s eta 0:00:11     |█████████████▏                  | 23.9MB 3.3MB/s eta 0:00:11     |█████████████▌                  | 24.5MB 3.3MB/s eta 0:00:11     |█████████████▋                  | 24.8MB 5.4MB/s eta 0:00:07     |█████████████▉                  | 25.0MB 5.4MB/s eta 0:00:07     |███████████████▋                | 28.4MB 5.4MB/s eta 0:00:06     |████████████████▍               | 29.8MB 5.4MB/s eta 0:00:06     |████████████████▊               | 30.3MB 15.0MB/s eta 0:00:02     |██████████████████              | 32.9MB 15.0MB/s eta 0:00:02     |███████████████████▎            | 35.0MB 15.0MB/s eta 0:00:02     |███████████████████▌            | 35.5MB 15.0MB/s eta 0:00:02     |███████████████████▋            | 35.6MB 1.9MB/s eta 0:00:12     |████████████████████            | 36.3MB 1.9MB/s eta 0:00:12     |████████████████████▍           | 37.1MB 1.9MB/s eta 0:00:12     |██████████████████████          | 39.9MB 5.9MB/s eta 0:00:04     |███████████████████████▏        | 42.0MB 5.9MB/s eta 0:00:03     |███████████████████████▎        | 42.4MB 5.9MB/s eta 0:00:03     |████████████████████████        | 43.4MB 5.9MB/s eta 0:00:03     |████████████████████████        | 43.7MB 3.9MB/s eta 0:00:04     |████████████████████████▍       | 44.2MB 3.9MB/s eta 0:00:04     |█████████████████████████▏      | 45.7MB 3.9MB/s eta 0:00:04     |████████████████████████████▎   | 51.3MB 3.9MB/s eta 0:00:02     |██████████████████████████████▏ | 54.8MB 4.1MB/s eta 0:00:01     |██████████████████████████████▍ | 55.3MB 4.1MB/s eta 0:00:01     |██████████████████████████████▊ | 55.8MB 4.1MB/s eta 0:00:01     |███████████████████████████████▊| 57.7MB 4.1MB/s eta 0:00:01     |████████████████████████████████| 58.0MB 19.2MB/s eta 0:00:01\n",
      "\u001b[?25hCollecting pydot<2,>=1.2\n",
      "  Downloading https://files.pythonhosted.org/packages/33/d1/b1479a770f66d962f545c2101630ce1d5592d90cb4f083d38862e93d16d2/pydot-1.4.1-py2.py3-none-any.whl\n",
      "Collecting jupyter<2,>=1\n",
      "  Downloading https://files.pythonhosted.org/packages/83/df/0f5dd132200728a86190397e1ea87cd76244e42d39ec5e88efd25b2abd7e/jupyter-1.0.0-py2.py3-none-any.whl\n",
      "Collecting scipy==1.1.0\n",
      "\u001b[?25l  Downloading https://files.pythonhosted.org/packages/40/de/0c22c6754370ba6b1fa8e53bd6e514d4a41a181125d405a501c215cbdbd6/scipy-1.1.0-cp37-cp37m-manylinux1_x86_64.whl (31.2MB)\n",
      "\u001b[K     |████████████████████████████████| 31.2MB 123kB/s eta 0:00:01    |▊                               | 696kB 6.6MB/s eta 0:00:05     |█▏                              | 1.1MB 6.6MB/s eta 0:00:05     |██                              | 1.9MB 6.6MB/s eta 0:00:05     |██████▉                         | 6.7MB 2.8MB/s eta 0:00:09     |████████▌                       | 8.3MB 2.8MB/s eta 0:00:09     |█████████▋                      | 9.4MB 2.6MB/s eta 0:00:09     |██████████▎                     | 10.0MB 2.6MB/s eta 0:00:09     |███████████                     | 10.7MB 2.6MB/s eta 0:00:08     |███████████▏                    | 10.9MB 2.6MB/s eta 0:00:08     |████████████                    | 11.7MB 2.6MB/s eta 0:00:08     |████████████████▍               | 15.9MB 2.9MB/s eta 0:00:06     |████████████████▋               | 16.2MB 2.9MB/s eta 0:00:06     |████████████████▊               | 16.3MB 2.9MB/s eta 0:00:06     |█████████████████▌              | 17.0MB 2.9MB/s eta 0:00:05     |██████████████████▊             | 18.2MB 2.7MB/s eta 0:00:05     |███████████████████             | 18.6MB 2.7MB/s eta 0:00:05     |████████████████████            | 19.5MB 2.7MB/s eta 0:00:05     |█████████████████████▉          | 21.2MB 3.1MB/s eta 0:00:04     |██████████████████████▎         | 21.7MB 3.1MB/s eta 0:00:04     |███████████████████████▍        | 22.8MB 3.1MB/s eta 0:00:03     |████████████████████████        | 23.5MB 4.9MB/s eta 0:00:02     |█████████████████████████▉      | 25.1MB 4.9MB/s eta 0:00:02     |██████████████████████████▍     | 25.7MB 3.2MB/s eta 0:00:02     |██████████████████████████▉     | 26.1MB 3.2MB/s eta 0:00:02     |███████████████████████████▎    | 26.5MB 3.2MB/s eta 0:00:02     |████████████████████████████▍   | 27.6MB 3.2MB/s eta 0:00:02     |█████████████████████████████▍  | 28.6MB 3.2MB/s eta 0:00:01     |█████████████████████████████▉  | 29.0MB 3.2MB/s eta 0:00:01     |███████████████████████████████▍| 30.5MB 2.6MB/s eta 0:00:01     |███████████████████████████████▊| 30.9MB 2.6MB/s eta 0:00:01\n",
      "\u001b[?25hCollecting ipywidgets<8,>=7\n",
      "\u001b[?25l  Downloading https://files.pythonhosted.org/packages/56/a0/dbcf5881bb2f51e8db678211907f16ea0a182b232c591a6d6f276985ca95/ipywidgets-7.5.1-py2.py3-none-any.whl (121kB)\n",
      "\u001b[K     |████████████████████████████████| 122kB 5.1MB/s eta 0:00:01\n",
      "\u001b[?25hCollecting pytz>=2018.3\n",
      "\u001b[?25l  Downloading https://files.pythonhosted.org/packages/e7/f9/f0b53f88060247251bf481fa6ea62cd0d25bf1b11a87888e53ce5b7c8ad2/pytz-2019.3-py2.py3-none-any.whl (509kB)\n",
      "\u001b[K     |████████████████████████████████| 512kB 3.2MB/s eta 0:00:01\n",
      "\u001b[?25hRequirement already satisfied: grpcio<2,>=1.12.1 in /opt/conda/lib/python3.7/site-packages (from apache-beam[gcp]<3,>=2.16->tfx==0.15.0) (1.24.3)\n",
      "Collecting httplib2<=0.12.0,>=0.8\n",
      "\u001b[?25l  Downloading https://files.pythonhosted.org/packages/ce/ed/803905d670b52fa0edfdd135337e545b4496c2ab3a222f1449b7256eb99f/httplib2-0.12.0.tar.gz (218kB)\n",
      "\u001b[K     |████████████████████████████████| 225kB 4.9MB/s eta 0:00:01\n",
      "\u001b[?25hCollecting hdfs<3.0.0,>=2.1.0\n",
      "\u001b[?25l  Downloading https://files.pythonhosted.org/packages/82/39/2c0879b1bcfd1f6ad078eb210d09dbce21072386a3997074ee91e60ddc5a/hdfs-2.5.8.tar.gz (41kB)\n",
      "\u001b[K     |████████████████████████████████| 51kB 4.0MB/s eta 0:00:011\n",
      "\u001b[?25hCollecting fastavro<0.22,>=0.21.4\n",
      "\u001b[?25l  Downloading https://files.pythonhosted.org/packages/af/fa/1c7b265aa44cf6089ce56a2702377a4994632016688b2b9ccde38a884024/fastavro-0.21.24-cp37-cp37m-manylinux1_x86_64.whl (1.2MB)\n",
      "\u001b[K     |████████████████████████████████| 1.2MB 140kB/s eta 0:00:01     |██████████████▍                 | 552kB 2.8MB/s eta 0:00:01\n",
      "\u001b[?25hCollecting pymongo<4.0.0,>=3.8.0\n",
      "\u001b[?25l  Downloading https://files.pythonhosted.org/packages/ce/16/4f652af25f6489b5f1ee177972b8a3ffdf6243a818a04132e185ff682986/pymongo-3.10.0-cp37-cp37m-manylinux2014_x86_64.whl (462kB)\n",
      "\u001b[K     |████████████████████████████████| 471kB 2.7MB/s eta 0:00:01\n",
      "\u001b[?25hCollecting oauth2client<4,>=2.0.1\n",
      "\u001b[?25l  Downloading https://files.pythonhosted.org/packages/c0/7b/bc893e35d6ca46a72faa4b9eaac25c687ce60e1fbe978993fe2de1b0ff0d/oauth2client-3.0.0.tar.gz (77kB)\n",
      "\u001b[K     |████████████████████████████████| 81kB 3.5MB/s eta 0:00:01\n",
      "\u001b[?25hCollecting dill<0.3.1,>=0.3.0\n",
      "\u001b[?25l  Downloading https://files.pythonhosted.org/packages/39/7a/70803635c850e351257029089d38748516a280864c97cbc73087afef6d51/dill-0.3.0.tar.gz (151kB)\n",
      "\u001b[K     |████████████████████████████████| 153kB 4.8MB/s eta 0:00:01\n",
      "\u001b[?25hCollecting avro-python3<2.0.0,>=1.8.1; python_version >= \"3.0\"\n",
      "  Downloading https://files.pythonhosted.org/packages/76/b2/98a736a31213d3e281a62bcae5572cf297d2546bc429accf36f9ee1604bf/avro-python3-1.9.1.tar.gz\n",
      "Collecting mock<3.0.0,>=1.0.1\n",
      "\u001b[?25l  Downloading https://files.pythonhosted.org/packages/e6/35/f187bdf23be87092bd0f1200d43d23076cee4d0dec109f195173fd3ebc79/mock-2.0.0-py2.py3-none-any.whl (56kB)\n",
      "\u001b[K     |████████████████████████████████| 61kB 8.3MB/s  eta 0:00:01\n",
      "\u001b[?25hRequirement already satisfied: python-dateutil<3,>=2.8.0 in /opt/conda/lib/python3.7/site-packages (from apache-beam[gcp]<3,>=2.16->tfx==0.15.0) (2.8.1)\n",
      "Collecting future<1.0.0,>=0.16.0\n",
      "\u001b[?25l  Downloading https://files.pythonhosted.org/packages/45/0b/38b06fd9b92dc2b68d58b75f900e97884c45bedd2ff83203d933cf5851c9/future-0.18.2.tar.gz (829kB)\n",
      "\u001b[K     |████████████████████████████████| 829kB 4.9MB/s eta 0:00:01\n",
      "\u001b[?25hCollecting crcmod<2.0,>=1.7\n",
      "\u001b[?25l  Downloading https://files.pythonhosted.org/packages/6b/b0/e595ce2a2527e169c3bcd6c33d2473c1918e0b7f6826a043ca1245dd4e5b/crcmod-1.7.tar.gz (89kB)\n",
      "\u001b[K     |████████████████████████████████| 92kB 3.6MB/s eta 0:00:011\n",
      "\u001b[?25hCollecting google-cloud-bigtable<1.1.0,>=0.31.1; extra == \"gcp\"\n",
      "\u001b[?25l  Downloading https://files.pythonhosted.org/packages/95/af/0ef7d097a1d5ad0c843867600e86de915e8ab8864740f49a4636cfb51af6/google_cloud_bigtable-1.0.0-py2.py3-none-any.whl (232kB)\n",
      "\u001b[K     |████████████████████████████████| 235kB 5.3MB/s eta 0:00:01\n",
      "\u001b[?25hCollecting google-apitools<0.5.29,>=0.5.28; extra == \"gcp\"\n",
      "\u001b[?25l  Downloading https://files.pythonhosted.org/packages/7f/32/df3e36fd705a00092f1ffa9f41ce1df8dcb594ae313d239b87861a41fc2e/google-apitools-0.5.28.tar.gz (172kB)\n",
      "\u001b[K     |████████████████████████████████| 174kB 7.1MB/s eta 0:00:01\n",
      "\u001b[?25hCollecting cachetools<4,>=3.1.0; extra == \"gcp\"\n",
      "  Downloading https://files.pythonhosted.org/packages/2f/a6/30b0a0bef12283e83e58c1d6e7b5aabc7acfc4110df81a4471655d33e704/cachetools-3.1.1-py2.py3-none-any.whl\n",
      "Collecting google-cloud-bigquery<1.18.0,>=1.6.0; extra == \"gcp\"\n",
      "\u001b[?25l  Downloading https://files.pythonhosted.org/packages/a4/96/1b9cf1d43869c47a205aad411dac7c3040df6093d63c39273fa4d4c45da7/google_cloud_bigquery-1.17.1-py2.py3-none-any.whl (142kB)\n",
      "\u001b[K     |████████████████████████████████| 143kB 5.4MB/s eta 0:00:01\n",
      "\u001b[?25hCollecting google-cloud-datastore<1.8.0,>=1.7.1; extra == \"gcp\"\n",
      "\u001b[?25l  Downloading https://files.pythonhosted.org/packages/d0/aa/29cbcf8cf7d08ce2d55b9dce858f7c632b434cb6451bed17cb4275804217/google_cloud_datastore-1.7.4-py2.py3-none-any.whl (82kB)\n",
      "\u001b[K     |████████████████████████████████| 92kB 3.4MB/s eta 0:00:011\n",
      "\u001b[?25hCollecting google-cloud-core<2,>=0.28.1; extra == \"gcp\"\n",
      "  Downloading https://files.pythonhosted.org/packages/93/54/8c5542c0df4c8a92c0b8736ee67abc4daa9ff3734a0119310c125673ac79/google_cloud_core-1.1.0-py2.py3-none-any.whl\n",
      "Collecting google-cloud-pubsub<1.1.0,>=0.39.0; extra == \"gcp\"\n",
      "\u001b[?25l  Downloading https://files.pythonhosted.org/packages/d3/91/07a82945a7396ea34debafd476724bb5fc267c292790fdf2138c693f95c5/google_cloud_pubsub-1.0.2-py2.py3-none-any.whl (118kB)\n",
      "\u001b[K     |████████████████████████████████| 122kB 5.4MB/s eta 0:00:01\n",
      "\u001b[?25hRequirement already satisfied: tensorflow-estimator<2.1.0,>=2.0.0 in /opt/conda/lib/python3.7/site-packages (from tensorflow<3,>=1.15->tfx==0.15.0) (2.0.1)\n",
      "Requirement already satisfied: opt-einsum>=2.3.2 in /opt/conda/lib/python3.7/site-packages (from tensorflow<3,>=1.15->tfx==0.15.0) (3.1.0)\n",
      "Requirement already satisfied: termcolor>=1.1.0 in /opt/conda/lib/python3.7/site-packages (from tensorflow<3,>=1.15->tfx==0.15.0) (1.1.0)\n",
      "Requirement already satisfied: google-pasta>=0.1.6 in /opt/conda/lib/python3.7/site-packages (from tensorflow<3,>=1.15->tfx==0.15.0) (0.1.8)\n",
      "Requirement already satisfied: wrapt>=1.11.1 in /opt/conda/lib/python3.7/site-packages (from tensorflow<3,>=1.15->tfx==0.15.0) (1.11.2)\n",
      "Requirement already satisfied: tensorboard<2.1.0,>=2.0.0 in /opt/conda/lib/python3.7/site-packages (from tensorflow<3,>=1.15->tfx==0.15.0) (2.0.0)\n",
      "Requirement already satisfied: gast==0.2.2 in /opt/conda/lib/python3.7/site-packages (from tensorflow<3,>=1.15->tfx==0.15.0) (0.2.2)\n",
      "Requirement already satisfied: astor>=0.6.0 in /opt/conda/lib/python3.7/site-packages (from tensorflow<3,>=1.15->tfx==0.15.0) (0.8.1)\n",
      "Requirement already satisfied: keras-preprocessing>=1.0.5 in /opt/conda/lib/python3.7/site-packages (from tensorflow<3,>=1.15->tfx==0.15.0) (1.1.0)\n",
      "Requirement already satisfied: wheel>=0.26 in /opt/conda/lib/python3.7/site-packages (from tensorflow<3,>=1.15->tfx==0.15.0) (0.33.6)\n",
      "Requirement already satisfied: keras-applications>=1.0.8 in /opt/conda/lib/python3.7/site-packages (from tensorflow<3,>=1.15->tfx==0.15.0) (1.0.8)\n",
      "Collecting google-auth>=1.4.1\n",
      "\u001b[?25l  Downloading https://files.pythonhosted.org/packages/36/f8/84b5771faec3eba9fe0c91c8c5896364a8ba08852c0dea5ad2025026dd95/google_auth-1.10.0-py2.py3-none-any.whl (76kB)\n",
      "\u001b[K     |████████████████████████████████| 81kB 9.8MB/s  eta 0:00:01\n",
      "\u001b[?25hCollecting google-auth-httplib2>=0.0.3\n",
      "  Downloading https://files.pythonhosted.org/packages/33/49/c814d6d438b823441552198f096fcd0377fd6c88714dbed34f1d3c8c4389/google_auth_httplib2-0.0.3-py2.py3-none-any.whl\n",
      "Collecting uritemplate<4dev,>=3.0.0\n",
      "  Downloading https://files.pythonhosted.org/packages/bf/0c/60d82c077998feb631608dca3cc1fe19ac074e772bf0c24cf409b977b815/uritemplate-3.0.1-py2.py3-none-any.whl\n",
      "Requirement already satisfied: setuptools in /opt/conda/lib/python3.7/site-packages (from protobuf<4,>=3.7->tfx==0.15.0) (41.6.0.post20191101)\n",
      "Requirement already satisfied: MarkupSafe>=0.23 in /opt/conda/lib/python3.7/site-packages (from jinja2<3,>=2.7.3->tfx==0.15.0) (1.1.1)\n",
      "Collecting tensorflow-serving-api<3,>=1.15\n",
      "  Downloading https://files.pythonhosted.org/packages/7b/91/2abebef1df17ee6d13aecf32e0f258dfcf62437ab989957b2a62d24f8630/tensorflow_serving_api-2.0.0-py2.py3-none-any.whl\n",
      "Collecting psutil<6,>=5.6\n",
      "\u001b[?25l  Downloading https://files.pythonhosted.org/packages/73/93/4f8213fbe66fc20cb904f35e6e04e20b47b85bee39845cc66a0bcf5ccdcb/psutil-5.6.7.tar.gz (448kB)\n",
      "\u001b[K     |████████████████████████████████| 450kB 4.9MB/s eta 0:00:01\n",
      "\u001b[?25hCollecting googleapis-common-protos\n",
      "  Downloading https://files.pythonhosted.org/packages/eb/ee/e59e74ecac678a14d6abefb9054f0bbcb318a6452a30df3776f133886d7d/googleapis-common-protos-1.6.0.tar.gz\n",
      "Requirement already satisfied: jedi>=0.10 in /opt/conda/lib/python3.7/site-packages (from ipython>=5->tensorflow-data-validation==0.15.0) (0.15.1)\n",
      "Requirement already satisfied: traitlets>=4.2 in /opt/conda/lib/python3.7/site-packages (from ipython>=5->tensorflow-data-validation==0.15.0) (4.3.3)\n",
      "Requirement already satisfied: pygments in /opt/conda/lib/python3.7/site-packages (from ipython>=5->tensorflow-data-validation==0.15.0) (2.4.2)\n",
      "Requirement already satisfied: decorator in /opt/conda/lib/python3.7/site-packages (from ipython>=5->tensorflow-data-validation==0.15.0) (4.4.1)\n",
      "Requirement already satisfied: pickleshare in /opt/conda/lib/python3.7/site-packages (from ipython>=5->tensorflow-data-validation==0.15.0) (0.7.5)\n",
      "Requirement already satisfied: backcall in /opt/conda/lib/python3.7/site-packages (from ipython>=5->tensorflow-data-validation==0.15.0) (0.1.0)\n",
      "Requirement already satisfied: pexpect; sys_platform != \"win32\" in /opt/conda/lib/python3.7/site-packages (from ipython>=5->tensorflow-data-validation==0.15.0) (4.7.0)\n",
      "Requirement already satisfied: prompt-toolkit<2.1.0,>=2.0.0 in /opt/conda/lib/python3.7/site-packages (from ipython>=5->tensorflow-data-validation==0.15.0) (2.0.10)\n",
      "Collecting pyparsing>=2.1.4\n",
      "\u001b[?25l  Downloading https://files.pythonhosted.org/packages/5d/bc/1e58593167fade7b544bfe9502a26dc860940a79ab306e651e7f13be68c2/pyparsing-2.4.6-py2.py3-none-any.whl (67kB)\n",
      "\u001b[K     |████████████████████████████████| 71kB 9.7MB/s  eta 0:00:01\n",
      "\u001b[?25hCollecting jupyter-console\n",
      "  Downloading https://files.pythonhosted.org/packages/cb/ee/6374ae8c21b7d0847f9c3722dcdfac986b8e54fa9ad9ea66e1eb6320d2b8/jupyter_console-6.0.0-py2.py3-none-any.whl\n",
      "Requirement already satisfied: ipykernel in /opt/conda/lib/python3.7/site-packages (from jupyter<2,>=1->tensorflow_model_analysis==0.15.4) (5.1.3)\n",
      "Requirement already satisfied: nbconvert in /opt/conda/lib/python3.7/site-packages (from jupyter<2,>=1->tensorflow_model_analysis==0.15.4) (5.6.1)\n",
      "Collecting qtconsole\n",
      "\u001b[?25l  Downloading https://files.pythonhosted.org/packages/7c/57/3528b84ffa753e2089908bbf74bb5ae60653eb7a63797b6234e88b847d67/qtconsole-4.6.0-py2.py3-none-any.whl (121kB)\n",
      "\u001b[K     |████████████████████████████████| 122kB 7.7MB/s eta 0:00:01\n",
      "\u001b[?25hRequirement already satisfied: notebook in /opt/conda/lib/python3.7/site-packages (from jupyter<2,>=1->tensorflow_model_analysis==0.15.4) (6.0.0)\n",
      "Requirement already satisfied: nbformat>=4.2.0 in /opt/conda/lib/python3.7/site-packages (from ipywidgets<8,>=7->tensorflow_model_analysis==0.15.4) (4.4.0)\n",
      "Collecting widgetsnbextension~=3.5.0\n",
      "\u001b[?25l  Downloading https://files.pythonhosted.org/packages/6c/7b/7ac231c20d2d33c445eaacf8a433f4e22c60677eb9776c7c5262d7ddee2d/widgetsnbextension-3.5.1-py2.py3-none-any.whl (2.2MB)\n",
      "\u001b[K     |████████████████████████████████| 2.2MB 5.5MB/s eta 0:00:01     |████████████████▊               | 1.2MB 5.5MB/s eta 0:00:01\n",
      "\u001b[?25hCollecting docopt\n",
      "  Downloading https://files.pythonhosted.org/packages/a2/55/8f8cab2afd404cf578136ef2cc5dfb50baa1761b68c9da1fb1e4eed343c9/docopt-0.6.2.tar.gz\n",
      "Requirement already satisfied: requests>=2.7.0 in /opt/conda/lib/python3.7/site-packages (from hdfs<3.0.0,>=2.1.0->apache-beam[gcp]<3,>=2.16->tfx==0.15.0) (2.22.0)\n",
      "Collecting pyasn1>=0.1.7\n",
      "\u001b[?25l  Downloading https://files.pythonhosted.org/packages/62/1e/a94a8d635fa3ce4cfc7f506003548d0a2447ae76fd5ca53932970fe3053f/pyasn1-0.4.8-py2.py3-none-any.whl (77kB)\n",
      "\u001b[K     |████████████████████████████████| 81kB 7.3MB/s  eta 0:00:01\n",
      "\u001b[?25hCollecting pyasn1-modules>=0.0.5\n",
      "\u001b[?25l  Downloading https://files.pythonhosted.org/packages/52/50/bb4cefca37da63a0c52218ba2cb1b1c36110d84dcbae8aa48cd67c5e95c2/pyasn1_modules-0.2.7-py2.py3-none-any.whl (131kB)\n",
      "\u001b[K     |████████████████████████████████| 133kB 4.3MB/s eta 0:00:01\n",
      "\u001b[?25hCollecting rsa>=3.1.4\n",
      "  Downloading https://files.pythonhosted.org/packages/02/e5/38518af393f7c214357079ce67a317307936896e961e35450b70fad2a9cf/rsa-4.0-py2.py3-none-any.whl\n",
      "Collecting pbr>=0.11\n",
      "\u001b[?25l  Downloading https://files.pythonhosted.org/packages/7a/db/a968fd7beb9fe06901c1841cb25c9ccb666ca1b9a19b114d1bbedf1126fc/pbr-5.4.4-py2.py3-none-any.whl (110kB)\n",
      "\u001b[K     |████████████████████████████████| 112kB 5.2MB/s eta 0:00:01\n",
      "\u001b[?25hCollecting google-api-core[grpc]<2.0.0dev,>=1.14.0\n",
      "\u001b[?25l  Downloading https://files.pythonhosted.org/packages/d0/70/bd363339fc88a1c434655ba03171d46aa2e679e1452cc95a4a8679e76a7a/google_api_core-1.15.0-py2.py3-none-any.whl (69kB)\n",
      "\u001b[K     |████████████████████████████████| 71kB 3.9MB/s eta 0:00:01\n",
      "\u001b[?25hCollecting grpc-google-iam-v1<0.13dev,>=0.12.3\n",
      "  Downloading https://files.pythonhosted.org/packages/65/19/2060c8faa325fddc09aa67af98ffcb6813f39a0ad805679fa64815362b3a/grpc-google-iam-v1-0.12.3.tar.gz\n",
      "Collecting fasteners>=0.14\n",
      "  Downloading https://files.pythonhosted.org/packages/18/bd/55eb2d6397b9c0e263af9d091ebdb756b15756029b3cededf6461481bc63/fasteners-0.15-py2.py3-none-any.whl\n",
      "Collecting google-resumable-media<0.5.0dev,>=0.3.1\n",
      "  Downloading https://files.pythonhosted.org/packages/96/d7/b29a41b01b854480891dfc408211ffb0cc7a2a3d5f15a3b6740ec18c845b/google_resumable_media-0.4.1-py2.py3-none-any.whl\n",
      "Requirement already satisfied: markdown>=2.6.8 in /opt/conda/lib/python3.7/site-packages (from tensorboard<2.1.0,>=2.0.0->tensorflow<3,>=1.15->tfx==0.15.0) (3.1.1)\n",
      "Requirement already satisfied: werkzeug>=0.11.15 in /opt/conda/lib/python3.7/site-packages (from tensorboard<2.1.0,>=2.0.0->tensorflow<3,>=1.15->tfx==0.15.0) (0.16.0)\n",
      "Requirement already satisfied: h5py in /opt/conda/lib/python3.7/site-packages (from keras-applications>=1.0.8->tensorflow<3,>=1.15->tfx==0.15.0) (2.10.0)\n",
      "Requirement already satisfied: parso>=0.5.0 in /opt/conda/lib/python3.7/site-packages (from jedi>=0.10->ipython>=5->tensorflow-data-validation==0.15.0) (0.5.1)\n",
      "Requirement already satisfied: ipython-genutils in /opt/conda/lib/python3.7/site-packages (from traitlets>=4.2->ipython>=5->tensorflow-data-validation==0.15.0) (0.2.0)\n",
      "Requirement already satisfied: ptyprocess>=0.5 in /opt/conda/lib/python3.7/site-packages (from pexpect; sys_platform != \"win32\"->ipython>=5->tensorflow-data-validation==0.15.0) (0.6.0)\n",
      "Requirement already satisfied: wcwidth in /opt/conda/lib/python3.7/site-packages (from prompt-toolkit<2.1.0,>=2.0.0->ipython>=5->tensorflow-data-validation==0.15.0) (0.1.7)\n",
      "Requirement already satisfied: jupyter-client in /opt/conda/lib/python3.7/site-packages (from jupyter-console->jupyter<2,>=1->tensorflow_model_analysis==0.15.4) (5.3.3)\n",
      "Requirement already satisfied: tornado>=4.2 in /opt/conda/lib/python3.7/site-packages (from ipykernel->jupyter<2,>=1->tensorflow_model_analysis==0.15.4) (6.0.3)\n",
      "Requirement already satisfied: jupyter-core in /opt/conda/lib/python3.7/site-packages (from nbconvert->jupyter<2,>=1->tensorflow_model_analysis==0.15.4) (4.5.0)\n",
      "Requirement already satisfied: pandocfilters>=1.4.1 in /opt/conda/lib/python3.7/site-packages (from nbconvert->jupyter<2,>=1->tensorflow_model_analysis==0.15.4) (1.4.2)\n",
      "Requirement already satisfied: testpath in /opt/conda/lib/python3.7/site-packages (from nbconvert->jupyter<2,>=1->tensorflow_model_analysis==0.15.4) (0.4.4)\n",
      "Requirement already satisfied: mistune<2,>=0.8.1 in /opt/conda/lib/python3.7/site-packages (from nbconvert->jupyter<2,>=1->tensorflow_model_analysis==0.15.4) (0.8.4)\n",
      "Requirement already satisfied: defusedxml in /opt/conda/lib/python3.7/site-packages (from nbconvert->jupyter<2,>=1->tensorflow_model_analysis==0.15.4) (0.6.0)\n",
      "Requirement already satisfied: bleach in /opt/conda/lib/python3.7/site-packages (from nbconvert->jupyter<2,>=1->tensorflow_model_analysis==0.15.4) (3.1.0)\n",
      "Requirement already satisfied: entrypoints>=0.2.2 in /opt/conda/lib/python3.7/site-packages (from nbconvert->jupyter<2,>=1->tensorflow_model_analysis==0.15.4) (0.3)\n",
      "Requirement already satisfied: Send2Trash in /opt/conda/lib/python3.7/site-packages (from notebook->jupyter<2,>=1->tensorflow_model_analysis==0.15.4) (1.5.0)\n",
      "Requirement already satisfied: terminado>=0.8.1 in /opt/conda/lib/python3.7/site-packages (from notebook->jupyter<2,>=1->tensorflow_model_analysis==0.15.4) (0.8.2)\n",
      "Requirement already satisfied: prometheus-client in /opt/conda/lib/python3.7/site-packages (from notebook->jupyter<2,>=1->tensorflow_model_analysis==0.15.4) (0.7.1)\n",
      "Requirement already satisfied: pyzmq>=17 in /opt/conda/lib/python3.7/site-packages (from notebook->jupyter<2,>=1->tensorflow_model_analysis==0.15.4) (18.1.0)\n",
      "Requirement already satisfied: jsonschema!=2.5.0,>=2.4 in /opt/conda/lib/python3.7/site-packages (from nbformat>=4.2.0->ipywidgets<8,>=7->tensorflow_model_analysis==0.15.4) (3.1.1)\n",
      "Requirement already satisfied: chardet<3.1.0,>=3.0.2 in /opt/conda/lib/python3.7/site-packages (from requests>=2.7.0->hdfs<3.0.0,>=2.1.0->apache-beam[gcp]<3,>=2.16->tfx==0.15.0) (3.0.4)\n",
      "Requirement already satisfied: idna<2.9,>=2.5 in /opt/conda/lib/python3.7/site-packages (from requests>=2.7.0->hdfs<3.0.0,>=2.1.0->apache-beam[gcp]<3,>=2.16->tfx==0.15.0) (2.8)\n",
      "Requirement already satisfied: certifi>=2017.4.17 in /opt/conda/lib/python3.7/site-packages (from requests>=2.7.0->hdfs<3.0.0,>=2.1.0->apache-beam[gcp]<3,>=2.16->tfx==0.15.0) (2019.11.28)\n",
      "Requirement already satisfied: urllib3!=1.25.0,!=1.25.1,<1.26,>=1.21.1 in /opt/conda/lib/python3.7/site-packages (from requests>=2.7.0->hdfs<3.0.0,>=2.1.0->apache-beam[gcp]<3,>=2.16->tfx==0.15.0) (1.25.6)\n",
      "Collecting monotonic>=0.1\n",
      "  Downloading https://files.pythonhosted.org/packages/ac/aa/063eca6a416f397bd99552c534c6d11d57f58f2e94c14780f3bbf818c4cf/monotonic-1.5-py2.py3-none-any.whl\n",
      "Requirement already satisfied: webencodings in /opt/conda/lib/python3.7/site-packages (from bleach->nbconvert->jupyter<2,>=1->tensorflow_model_analysis==0.15.4) (0.5.1)\n",
      "Requirement already satisfied: attrs>=17.4.0 in /opt/conda/lib/python3.7/site-packages (from jsonschema!=2.5.0,>=2.4->nbformat>=4.2.0->ipywidgets<8,>=7->tensorflow_model_analysis==0.15.4) (19.3.0)\n",
      "Requirement already satisfied: pyrsistent>=0.14.0 in /opt/conda/lib/python3.7/site-packages (from jsonschema!=2.5.0,>=2.4->nbformat>=4.2.0->ipywidgets<8,>=7->tensorflow_model_analysis==0.15.4) (0.15.5)\n",
      "Requirement already satisfied: importlib-metadata in /opt/conda/lib/python3.7/site-packages (from jsonschema!=2.5.0,>=2.4->nbformat>=4.2.0->ipywidgets<8,>=7->tensorflow_model_analysis==0.15.4) (0.23)\n",
      "Requirement already satisfied: zipp>=0.5 in /opt/conda/lib/python3.7/site-packages (from importlib-metadata->jsonschema!=2.5.0,>=2.4->nbformat>=4.2.0->ipywidgets<8,>=7->tensorflow_model_analysis==0.15.4) (0.6.0)\n",
      "Requirement already satisfied: more-itertools in /opt/conda/lib/python3.7/site-packages (from zipp>=0.5->importlib-metadata->jsonschema!=2.5.0,>=2.4->nbformat>=4.2.0->ipywidgets<8,>=7->tensorflow_model_analysis==0.15.4) (7.2.0)\n",
      "Building wheels for collected packages: tensorflow-transform, google-api-python-client, absl-py, httplib2, hdfs, oauth2client, dill, avro-python3, future, crcmod, google-apitools, psutil, googleapis-common-protos, docopt, grpc-google-iam-v1\n",
      "  Building wheel for tensorflow-transform (setup.py) ... \u001b[?25ldone\n",
      "\u001b[?25h  Created wheel for tensorflow-transform: filename=tensorflow_transform-0.15.0-cp37-none-any.whl size=280592 sha256=76bf05fa1e0467cd8efbf7ee549ebeaac4bb0468679bcb292903bb0103f57c53\n",
      "  Stored in directory: /home/jovyan/.cache/pip/wheels/18/62/08/7b4aee4bd80bd969f9c9c653556b0c8732c9c1fbff18a2b26d\n",
      "  Building wheel for google-api-python-client (setup.py) ... \u001b[?25ldone\n",
      "\u001b[?25h  Created wheel for google-api-python-client: filename=google_api_python_client-1.7.11-cp37-none-any.whl size=56530 sha256=de1d3cae742125d2f480cff0f584fc204259f9a0e313dfb5784324bac348a71a\n",
      "  Stored in directory: /home/jovyan/.cache/pip/wheels/b8/f6/f5/b7bef1a5bc0e07ca4aa54c596b0b574c5afc07a9fddccf08f8\n",
      "  Building wheel for absl-py (setup.py) ... \u001b[?25ldone\n",
      "\u001b[?25h  Created wheel for absl-py: filename=absl_py-0.8.1-cp37-none-any.whl size=121167 sha256=abf929bebc40c1178eaf9558e3065c0a90e328af18d6692550d51e11eb73c706\n",
      "  Stored in directory: /home/jovyan/.cache/pip/wheels/a7/15/a0/0a0561549ad11cdc1bc8fa1191a353efd30facf6bfb507aefc\n",
      "  Building wheel for httplib2 (setup.py) ... \u001b[?25ldone\n",
      "\u001b[?25h  Created wheel for httplib2: filename=httplib2-0.12.0-cp37-none-any.whl size=93465 sha256=35167639660a121611c660679c5006ccbee04ce87c1a0962b225d7b0749cc8a4\n",
      "  Stored in directory: /home/jovyan/.cache/pip/wheels/6d/41/4b/2b369d6e2b7eaebcdd423516d3fb659c7658c16a2be8fd04ec\n",
      "  Building wheel for hdfs (setup.py) ... \u001b[?25ldone\n",
      "\u001b[?25h  Created wheel for hdfs: filename=hdfs-2.5.8-cp37-none-any.whl size=33214 sha256=4ea8a8c27cfaaabb4ef4c5f2071bdadf7d48c836cbac7c045231dce98ae15656\n",
      "  Stored in directory: /home/jovyan/.cache/pip/wheels/fe/a7/05/23e3699975fc20f8a30e00ac1e515ab8c61168e982abe4ce70\n",
      "  Building wheel for oauth2client (setup.py) ... \u001b[?25ldone\n",
      "\u001b[?25h  Created wheel for oauth2client: filename=oauth2client-3.0.0-cp37-none-any.whl size=106382 sha256=3d5a76ddb5d070787107b10d8632fe9a8ec5a73f991576ccd874ecfec0ffb1c8\n",
      "  Stored in directory: /home/jovyan/.cache/pip/wheels/48/f7/87/b932f09c6335dbcf45d916937105a372ab14f353a9ca431d7d\n",
      "  Building wheel for dill (setup.py) ... \u001b[?25ldone\n",
      "\u001b[?25h  Created wheel for dill: filename=dill-0.3.0-cp37-none-any.whl size=77513 sha256=313485b7d70e0add31aa4ecf13578a8038e70f4d5bad9f7a48b590bf4306947e\n",
      "  Stored in directory: /home/jovyan/.cache/pip/wheels/c9/de/a4/a91eec4eea652104d8c81b633f32ead5eb57d1b294eab24167\n",
      "  Building wheel for avro-python3 (setup.py) ... \u001b[?25ldone\n",
      "\u001b[?25h  Created wheel for avro-python3: filename=avro_python3-1.9.1-cp37-none-any.whl size=43199 sha256=67ff14d3d06ca66642476c3a18f25353b3a49a9c99e8de21e37d8c6032d909ef\n",
      "  Stored in directory: /home/jovyan/.cache/pip/wheels/94/54/6f/a5df680fd3224aa45145686f3b1b02a878a90ea769fcf9daaf\n",
      "  Building wheel for future (setup.py) ... \u001b[?25ldone\n",
      "\u001b[?25h  Created wheel for future: filename=future-0.18.2-cp37-none-any.whl size=491057 sha256=c448974dec88d73f281301373bdcfeaa1d2a08b04abd364485f6aca6f517347f\n",
      "  Stored in directory: /home/jovyan/.cache/pip/wheels/8b/99/a0/81daf51dcd359a9377b110a8a886b3895921802d2fc1b2397e\n",
      "  Building wheel for crcmod (setup.py) ... \u001b[?25ldone\n",
      "\u001b[?25h  Created wheel for crcmod: filename=crcmod-1.7-cp37-cp37m-linux_x86_64.whl size=36462 sha256=71c9280209ff4d1c06517f41936a859722ab323f08f7162c3ec76895784b23c9\n",
      "  Stored in directory: /home/jovyan/.cache/pip/wheels/50/24/4d/4580ca4a299f1ad6fd63443e6e584cb21e9a07988e4aa8daac\n",
      "  Building wheel for google-apitools (setup.py) ... \u001b[?25ldone\n",
      "\u001b[?25h  Created wheel for google-apitools: filename=google_apitools-0.5.28-cp37-none-any.whl size=130111 sha256=7276371166bf49df329efe971883ff371fac95082db8b542cff70af2673aa311\n",
      "  Stored in directory: /home/jovyan/.cache/pip/wheels/d6/c2/92/837e8a4d649a209dff85b38d7fbb576b4b480738be70865f29\n",
      "  Building wheel for psutil (setup.py) ... \u001b[?25ldone\n",
      "\u001b[?25h  Created wheel for psutil: filename=psutil-5.6.7-cp37-cp37m-linux_x86_64.whl size=277265 sha256=658132bf27fee7024f20fcf44a5acdebd3ed095ab2f5908ab130621967f5ee7b\n",
      "  Stored in directory: /home/jovyan/.cache/pip/wheels/52/41/b0/bf50409fe2b1d3b79afa3eed71b54b3e30fe5b695db2c7ba2e\n",
      "  Building wheel for googleapis-common-protos (setup.py) ... \u001b[?25ldone\n",
      "\u001b[?25h  Created wheel for googleapis-common-protos: filename=googleapis_common_protos-1.6.0-cp37-none-any.whl size=77577 sha256=4e82d50189884728009b3f3c16061b3acd1fba3db33dae9c4974428fd1a6c807\n",
      "  Stored in directory: /home/jovyan/.cache/pip/wheels/9e/3d/a2/1bec8bb7db80ab3216dbc33092bb7ccd0debfb8ba42b5668d5\n",
      "  Building wheel for docopt (setup.py) ... \u001b[?25ldone\n",
      "\u001b[?25h  Created wheel for docopt: filename=docopt-0.6.2-py2.py3-none-any.whl size=13704 sha256=ed12885b99534018f9783112010c62904edceabb0380891e18d021fd4a77ff9d\n",
      "  Stored in directory: /home/jovyan/.cache/pip/wheels/9b/04/dd/7daf4150b6d9b12949298737de9431a324d4b797ffd63f526e\n",
      "  Building wheel for grpc-google-iam-v1 (setup.py) ... \u001b[?25ldone\n",
      "\u001b[?25h  Created wheel for grpc-google-iam-v1: filename=grpc_google_iam_v1-0.12.3-cp37-none-any.whl size=18500 sha256=c27d60a6b8df56acda4b0f9e1cb999513cc6864612885729f7fecbf8ae986baa\n",
      "  Stored in directory: /home/jovyan/.cache/pip/wheels/de/3a/83/77a1e18e1a8757186df834b86ce6800120ac9c79cd8ca4091b\n",
      "Successfully built tensorflow-transform google-api-python-client absl-py httplib2 hdfs oauth2client dill avro-python3 future crcmod google-apitools psutil googleapis-common-protos docopt grpc-google-iam-v1\n",
      "\u001b[31mERROR: apache-beam 2.17.0 has requirement pyarrow<0.16.0,>=0.15.1; python_version >= \"3.0\" or platform_system != \"Windows\", but you'll have pyarrow 0.14.1 which is incompatible.\u001b[0m\n",
      "\u001b[31mERROR: tfx-bsl 0.15.3 has requirement apache-beam[gcp]<2.17,>=2.16, but you'll have apache-beam 2.17.0 which is incompatible.\u001b[0m\n",
      "Installing collected packages: pytz, httplib2, docopt, hdfs, fastavro, pymongo, pyasn1, pyasn1-modules, rsa, oauth2client, pyparsing, pydot, pyarrow, dill, avro-python3, pbr, mock, future, crcmod, cachetools, google-auth, googleapis-common-protos, google-api-core, google-cloud-core, grpc-google-iam-v1, google-cloud-bigtable, monotonic, fasteners, google-apitools, google-resumable-media, google-cloud-bigquery, google-cloud-datastore, google-cloud-pubsub, apache-beam, absl-py, ml-metadata, click, google-auth-httplib2, uritemplate, google-api-python-client, jupyter-console, widgetsnbextension, ipywidgets, qtconsole, jupyter, scipy, tensorflow-metadata, tensorflow-serving-api, psutil, tfx-bsl, tensorflow-model-analysis, tensorflow-transform, joblib, scikit-learn, pandas, tensorflow-data-validation, tfx\n",
      "  Found existing installation: absl-py 0.9.0\n",
      "    Uninstalling absl-py-0.9.0:\n",
      "      Successfully uninstalled absl-py-0.9.0\n",
      "Successfully installed absl-py-0.8.1 apache-beam-2.17.0 avro-python3-1.9.1 cachetools-3.1.1 click-7.0 crcmod-1.7 dill-0.3.0 docopt-0.6.2 fastavro-0.21.24 fasteners-0.15 future-0.18.2 google-api-core-1.15.0 google-api-python-client-1.7.11 google-apitools-0.5.28 google-auth-1.10.0 google-auth-httplib2-0.0.3 google-cloud-bigquery-1.17.1 google-cloud-bigtable-1.0.0 google-cloud-core-1.1.0 google-cloud-datastore-1.7.4 google-cloud-pubsub-1.0.2 google-resumable-media-0.4.1 googleapis-common-protos-1.6.0 grpc-google-iam-v1-0.12.3 hdfs-2.5.8 httplib2-0.12.0 ipywidgets-7.5.1 joblib-0.14.1 jupyter-1.0.0 jupyter-console-6.0.0 ml-metadata-0.15.2 mock-2.0.0 monotonic-1.5 oauth2client-3.0.0 pandas-0.25.3 pbr-5.4.4 psutil-5.6.7 pyarrow-0.14.1 pyasn1-0.4.8 pyasn1-modules-0.2.7 pydot-1.4.1 pymongo-3.10.0 pyparsing-2.4.6 pytz-2019.3 qtconsole-4.6.0 rsa-4.0 scikit-learn-0.21.3 scipy-1.1.0 tensorflow-data-validation-0.15.0 tensorflow-metadata-0.15.2 tensorflow-model-analysis-0.15.4 tensorflow-serving-api-2.0.0 tensorflow-transform-0.15.0 tfx-0.15.0 tfx-bsl-0.15.3 uritemplate-3.0.1 widgetsnbextension-3.5.1\n"
     ]
    }
   ],
   "source": [
    "!sudo pip install tfx==0.15.0 tensorflow-data-validation==0.15.0 tensorflow_transform==0.15.0 tensorflow_model_analysis==0.15.4"
   ]
  },
  {
   "cell_type": "markdown",
   "metadata": {},
   "source": [
    "## Workbooks common"
   ]
  },
  {
   "cell_type": "code",
   "execution_count": 5,
   "metadata": {},
   "outputs": [],
   "source": [
    "##!pip install jupyter-tensorboard"
   ]
  },
  {
   "cell_type": "code",
   "execution_count": 6,
   "metadata": {},
   "outputs": [],
   "source": [
    "## !jupyter labextension install jupyterlab_tensorboard"
   ]
  },
  {
   "cell_type": "code",
   "execution_count": 7,
   "metadata": {
    "slideshow": {
     "slide_type": "fragment"
    }
   },
   "outputs": [
    {
     "name": "stdout",
     "output_type": "stream",
     "text": []
    },
    {
     "name": "stdout",
     "output_type": "stream",
     "text": [
      "Building jupyterlab assets (build:prod:minimize)\n",
      "An error occured.\n",
      "ValueError: Invalid file object: <_io.TextIOWrapper name=5 encoding='UTF-8'>\n",
      "See the log file for details:  /tmp/jupyterlab-debug-gkeqws58.log\n"
     ]
    }
   ],
   "source": [
    "!sudo jupyter labextension install @jupyter-widgets/jupyterlab-manager"
   ]
  },
  {
   "cell_type": "code",
   "execution_count": 8,
   "metadata": {},
   "outputs": [],
   "source": [
    "!sudo jupyter labextension enable jupyterlab_tensorboard"
   ]
  },
  {
   "cell_type": "code",
   "execution_count": 9,
   "metadata": {},
   "outputs": [
    {
     "name": "stdout",
     "output_type": "stream",
     "text": [
      "Enabling: jupyter_tensorboard\n",
      "- Writing config: /home/jovyan/.jupyter\n",
      "    - Validating...\n",
      "Error loading server extension jupyter_tensorboard\n",
      "     \u001b[31m X\u001b[0m is jupyter_tensorboard importable?\n"
     ]
    }
   ],
   "source": [
    "!sudo jupyter serverextension enable jupyter_tensorboard --user"
   ]
  },
  {
   "cell_type": "code",
   "execution_count": 10,
   "metadata": {},
   "outputs": [
    {
     "name": "stdout",
     "output_type": "stream",
     "text": [
      "Enabling notebook extension jupyter_tensorboard/tree...\n",
      "      - Validating: problems found:\n",
      "        - require? \u001b[31m X\u001b[0m jupyter_tensorboard/tree\n"
     ]
    }
   ],
   "source": [
    "!sudo jupyter nbextension enable jupyter_tensorboard/tree --user"
   ]
  },
  {
   "cell_type": "code",
   "execution_count": 11,
   "metadata": {},
   "outputs": [
    {
     "name": "stdout",
     "output_type": "stream",
     "text": [
      "Traceback (most recent call last):\n",
      "  File \"/opt/conda/bin/jupyter\", line 10, in <module>\n",
      "    sys.exit(main())\n",
      "  File \"/opt/conda/lib/python3.7/site-packages/jupyter_core/command.py\", line 230, in main\n",
      "    command = _jupyter_abspath(subcommand)\n",
      "  File \"/opt/conda/lib/python3.7/site-packages/jupyter_core/command.py\", line 133, in _jupyter_abspath\n",
      "    'Jupyter command `{}` not found.'.format(jupyter_subcommand)\n",
      "Exception: Jupyter command `jupyter-tensorboard` not found.\n"
     ]
    }
   ],
   "source": [
    "!sudo jupyter tensorboard enable --user"
   ]
  },
  {
   "cell_type": "code",
   "execution_count": 12,
   "metadata": {},
   "outputs": [
    {
     "name": "stdout",
     "output_type": "stream",
     "text": [
      "Traceback (most recent call last):\n",
      "  File \"/opt/conda/bin/jupyter\", line 10, in <module>\n",
      "    sys.exit(main())\n",
      "  File \"/opt/conda/lib/python3.7/site-packages/jupyter_core/command.py\", line 230, in main\n",
      "    command = _jupyter_abspath(subcommand)\n",
      "  File \"/opt/conda/lib/python3.7/site-packages/jupyter_core/command.py\", line 133, in _jupyter_abspath\n",
      "    'Jupyter command `{}` not found.'.format(jupyter_subcommand)\n",
      "Exception: Jupyter command `jupyter-tensorboard` not found.\n"
     ]
    }
   ],
   "source": [
    "!sudo jupyter tensorboard enable"
   ]
  },
  {
   "cell_type": "markdown",
   "metadata": {},
   "source": [
    "### TFDV Basic needs tf1.15"
   ]
  },
  {
   "cell_type": "code",
   "execution_count": 13,
   "metadata": {},
   "outputs": [
    {
     "name": "stdout",
     "output_type": "stream",
     "text": [
      "WARNING:tensorflow:From /opt/conda/lib/python3.7/site-packages/tensorflow_core/python/compat/v2_compat.py:65: disable_resource_variables (from tensorflow.python.ops.variable_scope) is deprecated and will be removed in a future version.\n",
      "Instructions for updating:\n",
      "non-resource variables are not supported in the long term\n"
     ]
    }
   ],
   "source": [
    "# Import tf2 module but behave as v1\n",
    "import tensorflow.compat.v1 as tf\n",
    "tf.disable_v2_behavior()"
   ]
  },
  {
   "cell_type": "markdown",
   "metadata": {},
   "source": [
    "### TFMA Jupter extensions"
   ]
  },
  {
   "cell_type": "code",
   "execution_count": 14,
   "metadata": {},
   "outputs": [
    {
     "name": "stdout",
     "output_type": "stream",
     "text": [
      "Enabling notebook extension jupyter-js-widgets/extension...\n",
      "      - Validating: \u001b[32mOK\u001b[0m\n"
     ]
    }
   ],
   "source": [
    "!sudo jupyter nbextension enable --py widgetsnbextension"
   ]
  },
  {
   "cell_type": "code",
   "execution_count": 15,
   "metadata": {},
   "outputs": [
    {
     "name": "stdout",
     "output_type": "stream",
     "text": [
      "Installing /opt/conda/lib/python3.7/site-packages/tensorflow_model_analysis/static -> tfma_widget_js\n",
      "Symlinking: /usr/local/share/jupyter/nbextensions/tfma_widget_js -> /opt/conda/lib/python3.7/site-packages/tensorflow_model_analysis/static\n",
      "- Validating: \u001b[32mOK\u001b[0m\n",
      "\n",
      "    To initialize this nbextension in the browser every time the notebook (or other app) loads:\n",
      "    \n",
      "          jupyter nbextension enable tensorflow_model_analysis --py\n",
      "    \n"
     ]
    }
   ],
   "source": [
    "!sudo jupyter nbextension install --py --symlink tensorflow_model_analysis"
   ]
  },
  {
   "cell_type": "code",
   "execution_count": 16,
   "metadata": {},
   "outputs": [
    {
     "name": "stdout",
     "output_type": "stream",
     "text": [
      "Enabling notebook extension tfma_widget_js/extension...\n",
      "      - Validating: \u001b[32mOK\u001b[0m\n"
     ]
    }
   ],
   "source": [
    "!sudo jupyter nbextension enable --py tensorflow_model_analysis"
   ]
  },
  {
   "cell_type": "markdown",
   "metadata": {},
   "source": [
    "## Enable the Extension Manager\n",
    "Open advanced settings editor, navigate to extension manger, set the user override to {\"enabled\":true}"
   ]
  },
  {
   "cell_type": "code",
   "execution_count": null,
   "metadata": {},
   "outputs": [],
   "source": []
  }
 ],
 "metadata": {
  "kernelspec": {
   "display_name": "Python 3",
   "language": "python",
   "name": "python3"
  },
  "language_info": {
   "codemirror_mode": {
    "name": "ipython",
    "version": 3
   },
   "file_extension": ".py",
   "mimetype": "text/x-python",
   "name": "python",
   "nbconvert_exporter": "python",
   "pygments_lexer": "ipython3",
   "version": "3.7.3"
  }
 },
 "nbformat": 4,
 "nbformat_minor": 4
}
