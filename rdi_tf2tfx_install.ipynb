{
 "cells": [
  {
   "cell_type": "markdown",
   "metadata": {
    "slideshow": {
     "slide_type": "fragment"
    }
   },
   "source": [
    "Docker host jupyter/minimal-notebook"
   ]
  },
  {
   "cell_type": "code",
   "execution_count": 1,
   "metadata": {},
   "outputs": [
    {
     "name": "stdout",
     "output_type": "stream",
     "text": [
      "absl-py==0.8.1\n",
      "ansiwrap==0.8.4\n",
      "apache-beam==2.16.0\n",
      "arrow==0.15.4\n",
      "astor==0.8.0\n",
      "astroid==2.3.3\n",
      "astropy==3.2.3\n",
      "atomicwrites==1.3.0\n",
      "attrs==19.3.0\n",
      "avro-python3==1.9.1\n",
      "backcall==0.1.0\n",
      "bcolz==1.2.1\n",
      "binaryornot==0.4.4\n",
      "bleach==3.1.0\n",
      "cachetools==3.1.1\n",
      "certifi==2019.9.11\n",
      "cffi==1.13.2\n",
      "chardet==3.0.4\n",
      "Click==7.0\n",
      "cloud-tpu-profiler==1.15.0rc1\n",
      "cloudpickle==1.1.1\n",
      "colorama==0.4.1\n",
      "configparser==4.0.2\n",
      "confuse==1.0.0\n",
      "cookiecutter==1.6.0\n",
      "crcmod==1.7\n",
      "cryptography==1.7.1\n",
      "cycler==0.10.0\n",
      "daal==2019.0\n",
      "datalab==1.1.5\n",
      "decorator==4.4.1\n",
      "defusedxml==0.6.0\n",
      "dill==0.3.0\n",
      "distro==1.0.1\n",
      "docker==4.1.0\n",
      "docopt==0.6.2\n",
      "entrypoints==0.3\n",
      "enum34==1.1.6\n",
      "fairing==0.5.3\n",
      "fastavro==0.21.24\n",
      "fasteners==0.15\n",
      "fsspec==0.5.2\n",
      "future==0.18.2\n",
      "gast==0.2.2\n",
      "gcsfs==0.3.1\n",
      "gitdb2==2.0.6\n",
      "GitPython==3.0.4\n",
      "google-api-core==1.14.3\n",
      "google-api-python-client==1.7.11\n",
      "google-apitools==0.5.28\n",
      "google-auth==1.7.0\n",
      "google-auth-httplib2==0.0.3\n",
      "google-auth-oauthlib==0.4.1\n",
      "google-cloud-bigquery==1.17.1\n",
      "google-cloud-bigtable==1.0.0\n",
      "google-cloud-core==1.0.3\n",
      "google-cloud-dataproc==0.6.0\n",
      "google-cloud-datastore==1.7.4\n",
      "google-cloud-language==1.3.0\n",
      "google-cloud-logging==1.14.0\n",
      "google-cloud-monitoring==0.31.1\n",
      "google-cloud-pubsub==1.0.2\n",
      "google-cloud-spanner==1.12.0\n",
      "google-cloud-storage==1.22.0\n",
      "google-cloud-translate==2.0.0\n",
      "google-compute-engine==20190916.0\n",
      "google-pasta==0.1.8\n",
      "google-resumable-media==0.4.1\n",
      "googleapis-common-protos==1.6.0\n",
      "grpc-google-iam-v1==0.12.3\n",
      "grpcio==1.24.3\n",
      "h5py==2.10.0\n",
      "hdfs==2.5.8\n",
      "horovod==0.18.2\n",
      "html5lib==1.0.1\n",
      "htmlmin==0.1.12\n",
      "httplib2==0.14.0\n",
      "icc-rt==2019.0\n",
      "idna==2.8\n",
      "imageio==2.6.1\n",
      "importlib-metadata==0.23\n",
      "intel-openmp==2019.0\n",
      "ipykernel==5.1.3\n",
      "ipython==7.9.0\n",
      "ipython-genutils==0.2.0\n",
      "ipython-sql==0.3.9\n",
      "ipywidgets==7.5.1\n",
      "isort==4.3.21\n",
      "jedi==0.15.1\n",
      "Jinja2==2.10.3\n",
      "jinja2-time==0.2.0\n",
      "joblib==0.14.0\n",
      "json5==0.8.5\n",
      "jsonschema==3.1.1\n",
      "jupyter==1.0.0\n",
      "jupyter-aihub-deploy-extension==0.1\n",
      "jupyter-client==5.3.4\n",
      "jupyter-console==6.0.0\n",
      "jupyter-contrib-core==0.3.3\n",
      "jupyter-contrib-nbextensions==0.5.1\n",
      "jupyter-core==4.6.1\n",
      "jupyter-highlight-selected-word==0.2.0\n",
      "jupyter-http-over-ws==0.0.6\n",
      "jupyter-latex-envs==1.4.6\n",
      "jupyter-nbextensions-configurator==0.4.1\n",
      "jupyter-tensorboard==0.1.10\n",
      "jupyterlab==1.2.2\n",
      "jupyterlab-git==0.8.1\n",
      "jupyterlab-server==1.0.6\n",
      "Keras==2.3.1\n",
      "Keras-Applications==1.0.8\n",
      "Keras-Preprocessing==1.1.0\n",
      "keyring==10.1\n",
      "keyrings.alt==1.3\n",
      "kiwisolver==1.1.0\n",
      "kubernetes==10.0.1\n",
      "lazy-object-proxy==1.4.3\n",
      "llvmlite==0.30.0\n",
      "lxml==4.4.1\n",
      "Markdown==3.1.1\n",
      "MarkupSafe==1.1.1\n",
      "matplotlib==3.0.3\n",
      "mccabe==0.6.1\n",
      "missingno==0.4.2\n",
      "mistune==0.8.4\n",
      "mkl==2019.0\n",
      "mkl-fft==1.0.6\n",
      "mkl-random==1.0.1.1\n",
      "ml-metadata==0.15.2\n",
      "mock==2.0.0\n",
      "monotonic==1.5\n",
      "more-itertools==7.2.0\n",
      "nbconvert==5.6.1\n",
      "nbdime==1.1.0\n",
      "nbformat==4.4.0\n",
      "networkx==2.4\n",
      "nltk==3.4.5\n",
      "notebook==6.0.2\n",
      "numba==0.46.0\n",
      "numpy==1.17.4\n",
      "oauth2client==3.0.0\n",
      "oauthlib==3.1.0\n",
      "opencv-python==4.1.1.26\n",
      "opt-einsum==3.1.0\n",
      "packaging==19.2\n",
      "pandas==0.25.3\n",
      "pandas-profiling==1.4.0\n",
      "pandocfilters==1.4.2\n",
      "papermill==1.2.1\n",
      "parso==0.5.1\n",
      "pathlib2==2.3.5\n",
      "pbr==5.4.4\n",
      "pexpect==4.7.0\n",
      "phik==0.9.8\n",
      "pickleshare==0.7.5\n",
      "Pillow==6.2.1\n",
      "plotly==4.2.1\n",
      "pluggy==0.13.0\n",
      "poyo==0.5.0\n",
      "prettytable==0.7.2\n",
      "prometheus-client==0.7.1\n",
      "promise==2.2.1\n",
      "prompt-toolkit==2.0.10\n",
      "protobuf==3.10.0\n",
      "psutil==5.6.5\n",
      "ptyprocess==0.6.0\n",
      "py==1.8.0\n",
      "pyarrow==0.14.1\n",
      "pyasn1==0.4.7\n",
      "pyasn1-modules==0.2.7\n",
      "pycparser==2.19\n",
      "pycrypto==2.6.1\n",
      "pycurl==7.43.0\n",
      "pydaal==2019.0.0.20180713\n",
      "pydot==1.4.1\n",
      "Pygments==2.4.2\n",
      "pygobject==3.22.0\n",
      "pylint==2.4.3\n",
      "pymongo==3.10.0\n",
      "pyparsing==2.4.5\n",
      "pyrsistent==0.15.5\n",
      "pytest==5.2.2\n",
      "pytest-pylint==0.14.1\n",
      "python-apt==1.4.0b3\n",
      "python-dateutil==2.8.1\n",
      "pytz==2019.3\n",
      "PyWavelets==1.1.1\n",
      "pyxdg==0.25\n",
      "PyYAML==3.13\n",
      "pyzmq==18.1.0\n",
      "qtconsole==4.5.5\n",
      "requests==2.22.0\n",
      "requests-oauthlib==1.3.0\n",
      "retrying==1.3.3\n",
      "rsa==4.0\n",
      "scikit-image==0.15.0\n",
      "scikit-learn==0.21.3\n",
      "scipy==1.1.0\n",
      "seaborn==0.9.0\n",
      "SecretStorage==2.3.1\n",
      "Send2Trash==1.5.0\n",
      "simplegeneric==0.8.1\n",
      "six==1.13.0\n",
      "smmap2==2.0.5\n",
      "SQLAlchemy==1.3.11\n",
      "sqlparse==0.3.0\n",
      "tbb==2019.0\n",
      "tbb4py==2019.0\n",
      "tenacity==6.0.0\n",
      "tensorboard==2.0.0\n",
      "tensorflow==2.0.0\n",
      "tensorflow-data-validation==0.15.0\n",
      "tensorflow-datasets==1.2.0\n",
      "tensorflow-estimator==2.0.1\n",
      "tensorflow-hub==0.6.0\n",
      "tensorflow-io==0.8.0\n",
      "tensorflow-metadata==0.15.1\n",
      "tensorflow-model-analysis==0.15.4\n",
      "tensorflow-probability==0.8.0\n",
      "tensorflow-serving-api==2.0.0\n",
      "tensorflow-transform==0.15.0\n",
      "termcolor==1.1.0\n",
      "terminado==0.8.2\n",
      "testpath==0.4.4\n",
      "textwrap3==0.9.2\n",
      "tfds-nightly==1.0.1.dev201903050105\n",
      "tfx==0.15.0\n",
      "tfx-bsl==0.15.3\n",
      "tornado==5.1.1\n",
      "tqdm==4.38.0\n",
      "traitlets==4.3.3\n",
      "typed-ast==1.4.0\n",
      "unattended-upgrades==0.1\n",
      "uritemplate==3.0.0\n",
      "urllib3==1.24.2\n",
      "virtualenv==16.7.7\n",
      "wcwidth==0.1.7\n",
      "webencodings==0.5.1\n",
      "websocket-client==0.56.0\n",
      "Werkzeug==0.16.0\n",
      "whichcraft==0.6.1\n",
      "widgetsnbextension==3.5.1\n",
      "witwidget-gpu==1.5.0\n",
      "wrapt==1.11.2\n",
      "zipp==0.6.0\n"
     ]
    }
   ],
   "source": [
    "!pip freeze"
   ]
  },
  {
   "cell_type": "markdown",
   "metadata": {},
   "source": [
    "### Components\n",
    "Bump the key nodes up to 2.0, remove the tripping block PyAML==5.1"
   ]
  },
  {
   "cell_type": "code",
   "execution_count": 2,
   "metadata": {},
   "outputs": [
    {
     "name": "stdout",
     "output_type": "stream",
     "text": [
      "/bin/sh: 1: conda: not found\n"
     ]
    }
   ],
   "source": [
    "!conda install -y PyYAML==3.13"
   ]
  },
  {
   "cell_type": "code",
   "execution_count": 4,
   "metadata": {},
   "outputs": [
    {
     "name": "stdout",
     "output_type": "stream",
     "text": [
      "Requirement already satisfied: tensorflow==2.0 in /usr/local/lib/python3.5/dist-packages (2.0.0)\n",
      "Requirement already satisfied: tensorboard==2.0.0 in /usr/local/lib/python3.5/dist-packages (2.0.0)\n",
      "Requirement already satisfied: grpcio==1.24.3 in /usr/local/lib/python3.5/dist-packages (1.24.3)\n",
      "Requirement already satisfied: astor>=0.6.0 in /usr/local/lib/python3.5/dist-packages (from tensorflow==2.0) (0.8.0)\n",
      "Requirement already satisfied: keras-applications>=1.0.8 in /usr/local/lib/python3.5/dist-packages (from tensorflow==2.0) (1.0.8)\n",
      "Requirement already satisfied: tensorflow-estimator<2.1.0,>=2.0.0 in /usr/local/lib/python3.5/dist-packages (from tensorflow==2.0) (2.0.1)\n",
      "Requirement already satisfied: wheel>=0.26 in /usr/lib/python3/dist-packages (from tensorflow==2.0) (0.29.0)\n",
      "Requirement already satisfied: wrapt>=1.11.1 in /usr/local/lib/python3.5/dist-packages (from tensorflow==2.0) (1.11.2)\n",
      "Requirement already satisfied: absl-py>=0.7.0 in /usr/local/lib/python3.5/dist-packages (from tensorflow==2.0) (0.8.1)\n",
      "Requirement already satisfied: keras-preprocessing>=1.0.5 in /usr/local/lib/python3.5/dist-packages (from tensorflow==2.0) (1.1.0)\n",
      "Requirement already satisfied: opt-einsum>=2.3.2 in /usr/local/lib/python3.5/dist-packages (from tensorflow==2.0) (3.1.0)\n",
      "Requirement already satisfied: termcolor>=1.1.0 in /usr/local/lib/python3.5/dist-packages (from tensorflow==2.0) (1.1.0)\n",
      "Requirement already satisfied: google-pasta>=0.1.6 in /usr/local/lib/python3.5/dist-packages (from tensorflow==2.0) (0.1.8)\n",
      "Requirement already satisfied: numpy<2.0,>=1.16.0 in /usr/local/lib/python3.5/dist-packages (from tensorflow==2.0) (1.17.4)\n",
      "Requirement already satisfied: six>=1.10.0 in /usr/local/lib/python3.5/dist-packages (from tensorflow==2.0) (1.13.0)\n",
      "Requirement already satisfied: protobuf>=3.6.1 in /usr/local/lib/python3.5/dist-packages (from tensorflow==2.0) (3.10.0)\n",
      "Requirement already satisfied: gast==0.2.2 in /usr/local/lib/python3.5/dist-packages (from tensorflow==2.0) (0.2.2)\n",
      "Requirement already satisfied: markdown>=2.6.8 in /usr/local/lib/python3.5/dist-packages (from tensorboard==2.0.0) (3.1.1)\n",
      "Requirement already satisfied: werkzeug>=0.11.15 in /usr/local/lib/python3.5/dist-packages (from tensorboard==2.0.0) (0.16.0)\n",
      "Requirement already satisfied: setuptools>=41.0.0 in /usr/local/lib/python3.5/dist-packages (from tensorboard==2.0.0) (41.6.0)\n",
      "Requirement already satisfied: h5py in /usr/local/lib/python3.5/dist-packages (from keras-applications>=1.0.8->tensorflow==2.0) (2.10.0)\n"
     ]
    }
   ],
   "source": [
    "!sudo pip install tensorflow==2.0 tensorboard==2.0.0 grpcio==1.24.3"
   ]
  },
  {
   "cell_type": "markdown",
   "metadata": {},
   "source": [
    "Let's start with the pip install for necessay components\n",
    "This can create incompatible entries\n",
    "And install may leave tf 1.15"
   ]
  },
  {
   "cell_type": "code",
   "execution_count": 5,
   "metadata": {},
   "outputs": [
    {
     "name": "stdout",
     "output_type": "stream",
     "text": [
      "Requirement already satisfied: tfx==0.15.0 in /usr/local/lib/python3.5/dist-packages (0.15.0)\n",
      "Requirement already satisfied: tensorflow-data-validation==0.15.0 in /usr/local/lib/python3.5/dist-packages (0.15.0)\n",
      "Requirement already satisfied: tensorflow_transform==0.15.0 in /usr/local/lib/python3.5/dist-packages (0.15.0)\n",
      "Requirement already satisfied: tensorflow_model_analysis==0.15.4 in /usr/local/lib/python3.5/dist-packages (0.15.4)\n",
      "Requirement already satisfied: jinja2<3,>=2.7.3 in /usr/local/lib/python3.5/dist-packages (from tfx==0.15.0) (2.10.3)\n",
      "Requirement already satisfied: six<2,>=1.10 in /usr/local/lib/python3.5/dist-packages (from tfx==0.15.0) (1.13.0)\n",
      "Requirement already satisfied: tfx-bsl<0.16,>=0.15.3 in /usr/local/lib/python3.5/dist-packages (from tfx==0.15.0) (0.15.3)\n",
      "Requirement already satisfied: click<8,>=7 in /usr/local/lib/python3.5/dist-packages (from tfx==0.15.0) (7.0)\n",
      "Requirement already satisfied: google-api-python-client<2,>=1.7.8 in /usr/local/lib/python3.5/dist-packages (from tfx==0.15.0) (1.7.11)\n",
      "Requirement already satisfied: ml-metadata<0.16,>=0.15.0rc0 in /usr/local/lib/python3.5/dist-packages (from tfx==0.15.0) (0.15.2)\n",
      "Requirement already satisfied: apache-beam[gcp]<3,>=2.16 in /usr/local/lib/python3.5/dist-packages (from tfx==0.15.0) (2.16.0)\n",
      "Requirement already satisfied: tensorflow<3,>=1.15 in /usr/local/lib/python3.5/dist-packages (from tfx==0.15.0) (2.0.0)\n",
      "Requirement already satisfied: pyyaml<4,>=3.12 in /usr/local/lib/python3.5/dist-packages (from tfx==0.15.0) (3.13)\n",
      "Requirement already satisfied: protobuf<4,>=3.7 in /usr/local/lib/python3.5/dist-packages (from tfx==0.15.0) (3.10.0)\n",
      "Requirement already satisfied: absl-py<0.9,>=0.1.6 in /usr/local/lib/python3.5/dist-packages (from tfx==0.15.0) (0.8.1)\n",
      "Requirement already satisfied: joblib<0.15,>=0.12 in /usr/local/lib/python3.5/dist-packages (from tensorflow-data-validation==0.15.0) (0.14.0)\n",
      "Requirement already satisfied: tensorflow-metadata<0.16,>=0.15 in /usr/local/lib/python3.5/dist-packages (from tensorflow-data-validation==0.15.0) (0.15.1)\n",
      "Requirement already satisfied: numpy<2,>=1.16 in /usr/local/lib/python3.5/dist-packages (from tensorflow-data-validation==0.15.0) (1.17.4)\n",
      "Requirement already satisfied: pyarrow<0.15,>=0.14 in /usr/local/lib/python3.5/dist-packages (from tensorflow-data-validation==0.15.0) (0.14.1)\n",
      "Requirement already satisfied: ipython>=5 in /usr/local/lib/python3.5/dist-packages (from tensorflow-data-validation==0.15.0) (7.9.0)\n",
      "Requirement already satisfied: pandas<1,>=0.24 in /usr/local/lib/python3.5/dist-packages (from tensorflow-data-validation==0.15.0) (0.25.3)\n",
      "Requirement already satisfied: scikit-learn<0.22,>=0.18 in /usr/local/lib/python3.5/dist-packages (from tensorflow-data-validation==0.15.0) (0.21.3)\n",
      "Requirement already satisfied: pydot<2,>=1.2 in /usr/local/lib/python3.5/dist-packages (from tensorflow_transform==0.15.0) (1.4.1)\n",
      "Requirement already satisfied: ipywidgets<8,>=7 in /usr/local/lib/python3.5/dist-packages (from tensorflow_model_analysis==0.15.4) (7.5.1)\n",
      "Requirement already satisfied: jupyter<2,>=1 in /usr/local/lib/python3.5/dist-packages (from tensorflow_model_analysis==0.15.4) (1.0.0)\n",
      "Requirement already satisfied: scipy==1.1.0 in /usr/local/lib/python3.5/dist-packages (from tensorflow_model_analysis==0.15.4) (1.1.0)\n",
      "Requirement already satisfied: MarkupSafe>=0.23 in /usr/local/lib/python3.5/dist-packages (from jinja2<3,>=2.7.3->tfx==0.15.0) (1.1.1)\n",
      "Requirement already satisfied: tensorflow-serving-api<3,>=1.15 in /usr/local/lib/python3.5/dist-packages (from tfx-bsl<0.16,>=0.15.3->tfx==0.15.0) (2.0.0)\n",
      "Requirement already satisfied: psutil<6,>=5.6 in /usr/local/lib/python3.5/dist-packages (from tfx-bsl<0.16,>=0.15.3->tfx==0.15.0) (5.6.5)\n",
      "Requirement already satisfied: google-auth-httplib2>=0.0.3 in /usr/local/lib/python3.5/dist-packages (from google-api-python-client<2,>=1.7.8->tfx==0.15.0) (0.0.3)\n",
      "Requirement already satisfied: uritemplate<4dev,>=3.0.0 in /usr/local/lib/python3.5/dist-packages (from google-api-python-client<2,>=1.7.8->tfx==0.15.0) (3.0.0)\n",
      "Requirement already satisfied: httplib2<1dev,>=0.9.2 in /usr/local/lib/python3.5/dist-packages (from google-api-python-client<2,>=1.7.8->tfx==0.15.0) (0.14.0)\n",
      "Requirement already satisfied: google-auth>=1.4.1 in /usr/local/lib/python3.5/dist-packages (from google-api-python-client<2,>=1.7.8->tfx==0.15.0) (1.7.0)\n",
      "Requirement already satisfied: future<1.0.0,>=0.16.0 in /usr/local/lib/python3.5/dist-packages (from apache-beam[gcp]<3,>=2.16->tfx==0.15.0) (0.18.2)\n",
      "Requirement already satisfied: avro-python3<2.0.0,>=1.8.1; python_version >= \"3.0\" in /usr/local/lib/python3.5/dist-packages (from apache-beam[gcp]<3,>=2.16->tfx==0.15.0) (1.9.1)\n",
      "Requirement already satisfied: dill<0.3.1,>=0.3.0 in /usr/local/lib/python3.5/dist-packages (from apache-beam[gcp]<3,>=2.16->tfx==0.15.0) (0.3.0)\n",
      "Requirement already satisfied: oauth2client<4,>=2.0.1 in /usr/local/lib/python3.5/dist-packages (from apache-beam[gcp]<3,>=2.16->tfx==0.15.0) (3.0.0)\n",
      "Requirement already satisfied: crcmod<2.0,>=1.7 in /usr/local/lib/python3.5/dist-packages (from apache-beam[gcp]<3,>=2.16->tfx==0.15.0) (1.7)\n",
      "Requirement already satisfied: fastavro<0.22,>=0.21.4 in /usr/local/lib/python3.5/dist-packages (from apache-beam[gcp]<3,>=2.16->tfx==0.15.0) (0.21.24)\n",
      "Requirement already satisfied: mock<3.0.0,>=1.0.1 in /usr/local/lib/python3.5/dist-packages (from apache-beam[gcp]<3,>=2.16->tfx==0.15.0) (2.0.0)\n",
      "Requirement already satisfied: pymongo<4.0.0,>=3.8.0 in /usr/local/lib/python3.5/dist-packages (from apache-beam[gcp]<3,>=2.16->tfx==0.15.0) (3.10.0)\n",
      "Requirement already satisfied: pytz>=2018.3 in /usr/local/lib/python3.5/dist-packages (from apache-beam[gcp]<3,>=2.16->tfx==0.15.0) (2019.3)\n",
      "Requirement already satisfied: python-dateutil<3,>=2.8.0 in /usr/local/lib/python3.5/dist-packages (from apache-beam[gcp]<3,>=2.16->tfx==0.15.0) (2.8.1)\n",
      "Requirement already satisfied: hdfs<3.0.0,>=2.1.0 in /usr/local/lib/python3.5/dist-packages (from apache-beam[gcp]<3,>=2.16->tfx==0.15.0) (2.5.8)\n",
      "Requirement already satisfied: grpcio<2,>=1.12.1 in /usr/local/lib/python3.5/dist-packages (from apache-beam[gcp]<3,>=2.16->tfx==0.15.0) (1.24.3)\n",
      "Requirement already satisfied: google-apitools<0.5.29,>=0.5.28; extra == \"gcp\" in /usr/local/lib/python3.5/dist-packages (from apache-beam[gcp]<3,>=2.16->tfx==0.15.0) (0.5.28)\n",
      "Requirement already satisfied: google-cloud-datastore<1.8.0,>=1.7.1; extra == \"gcp\" in /usr/local/lib/python3.5/dist-packages (from apache-beam[gcp]<3,>=2.16->tfx==0.15.0) (1.7.4)\n",
      "Requirement already satisfied: cachetools<4,>=3.1.0; extra == \"gcp\" in /usr/local/lib/python3.5/dist-packages (from apache-beam[gcp]<3,>=2.16->tfx==0.15.0) (3.1.1)\n",
      "Requirement already satisfied: google-cloud-core<2,>=0.28.1; extra == \"gcp\" in /usr/local/lib/python3.5/dist-packages (from apache-beam[gcp]<3,>=2.16->tfx==0.15.0) (1.0.3)\n",
      "Requirement already satisfied: google-cloud-pubsub<1.1.0,>=0.39.0; extra == \"gcp\" in /usr/local/lib/python3.5/dist-packages (from apache-beam[gcp]<3,>=2.16->tfx==0.15.0) (1.0.2)\n",
      "Requirement already satisfied: google-cloud-bigtable<1.1.0,>=0.31.1; extra == \"gcp\" in /usr/local/lib/python3.5/dist-packages (from apache-beam[gcp]<3,>=2.16->tfx==0.15.0) (1.0.0)\n",
      "Requirement already satisfied: google-cloud-bigquery<1.18.0,>=1.6.0; extra == \"gcp\" in /usr/local/lib/python3.5/dist-packages (from apache-beam[gcp]<3,>=2.16->tfx==0.15.0) (1.17.1)\n",
      "Requirement already satisfied: opt-einsum>=2.3.2 in /usr/local/lib/python3.5/dist-packages (from tensorflow<3,>=1.15->tfx==0.15.0) (3.1.0)\n",
      "Requirement already satisfied: wheel>=0.26 in /usr/lib/python3/dist-packages (from tensorflow<3,>=1.15->tfx==0.15.0) (0.29.0)\n",
      "Requirement already satisfied: tensorboard<2.1.0,>=2.0.0 in /usr/local/lib/python3.5/dist-packages (from tensorflow<3,>=1.15->tfx==0.15.0) (2.0.0)\n",
      "Requirement already satisfied: termcolor>=1.1.0 in /usr/local/lib/python3.5/dist-packages (from tensorflow<3,>=1.15->tfx==0.15.0) (1.1.0)\n",
      "Requirement already satisfied: keras-applications>=1.0.8 in /usr/local/lib/python3.5/dist-packages (from tensorflow<3,>=1.15->tfx==0.15.0) (1.0.8)\n",
      "Requirement already satisfied: astor>=0.6.0 in /usr/local/lib/python3.5/dist-packages (from tensorflow<3,>=1.15->tfx==0.15.0) (0.8.0)\n",
      "Requirement already satisfied: google-pasta>=0.1.6 in /usr/local/lib/python3.5/dist-packages (from tensorflow<3,>=1.15->tfx==0.15.0) (0.1.8)\n",
      "Requirement already satisfied: tensorflow-estimator<2.1.0,>=2.0.0 in /usr/local/lib/python3.5/dist-packages (from tensorflow<3,>=1.15->tfx==0.15.0) (2.0.1)\n",
      "Requirement already satisfied: gast==0.2.2 in /usr/local/lib/python3.5/dist-packages (from tensorflow<3,>=1.15->tfx==0.15.0) (0.2.2)\n",
      "Requirement already satisfied: keras-preprocessing>=1.0.5 in /usr/local/lib/python3.5/dist-packages (from tensorflow<3,>=1.15->tfx==0.15.0) (1.1.0)\n",
      "Requirement already satisfied: wrapt>=1.11.1 in /usr/local/lib/python3.5/dist-packages (from tensorflow<3,>=1.15->tfx==0.15.0) (1.11.2)\n",
      "Requirement already satisfied: setuptools in /usr/local/lib/python3.5/dist-packages (from protobuf<4,>=3.7->tfx==0.15.0) (41.6.0)\n",
      "Requirement already satisfied: googleapis-common-protos in /usr/local/lib/python3.5/dist-packages (from tensorflow-metadata<0.16,>=0.15->tensorflow-data-validation==0.15.0) (1.6.0)\n",
      "Requirement already satisfied: backcall in /usr/local/lib/python3.5/dist-packages (from ipython>=5->tensorflow-data-validation==0.15.0) (0.1.0)\n",
      "Requirement already satisfied: pygments in /usr/local/lib/python3.5/dist-packages (from ipython>=5->tensorflow-data-validation==0.15.0) (2.4.2)\n",
      "Requirement already satisfied: traitlets>=4.2 in /usr/local/lib/python3.5/dist-packages (from ipython>=5->tensorflow-data-validation==0.15.0) (4.3.3)\n",
      "Requirement already satisfied: jedi>=0.10 in /usr/local/lib/python3.5/dist-packages (from ipython>=5->tensorflow-data-validation==0.15.0) (0.15.1)\n",
      "Requirement already satisfied: prompt-toolkit<2.1.0,>=2.0.0 in /usr/local/lib/python3.5/dist-packages (from ipython>=5->tensorflow-data-validation==0.15.0) (2.0.10)\n",
      "Requirement already satisfied: pexpect; sys_platform != \"win32\" in /usr/local/lib/python3.5/dist-packages (from ipython>=5->tensorflow-data-validation==0.15.0) (4.7.0)\n",
      "Requirement already satisfied: pickleshare in /usr/local/lib/python3.5/dist-packages (from ipython>=5->tensorflow-data-validation==0.15.0) (0.7.5)\n",
      "Requirement already satisfied: decorator in /usr/local/lib/python3.5/dist-packages (from ipython>=5->tensorflow-data-validation==0.15.0) (4.4.1)\n",
      "Requirement already satisfied: pyparsing>=2.1.4 in /usr/local/lib/python3.5/dist-packages (from pydot<2,>=1.2->tensorflow_transform==0.15.0) (2.4.5)\n",
      "Requirement already satisfied: nbformat>=4.2.0 in /usr/local/lib/python3.5/dist-packages (from ipywidgets<8,>=7->tensorflow_model_analysis==0.15.4) (4.4.0)\n",
      "Requirement already satisfied: ipykernel>=4.5.1 in /usr/local/lib/python3.5/dist-packages (from ipywidgets<8,>=7->tensorflow_model_analysis==0.15.4) (5.1.3)\n",
      "Requirement already satisfied: widgetsnbextension~=3.5.0 in /usr/local/lib/python3.5/dist-packages (from ipywidgets<8,>=7->tensorflow_model_analysis==0.15.4) (3.5.1)\n",
      "Requirement already satisfied: nbconvert in /usr/local/lib/python3.5/dist-packages (from jupyter<2,>=1->tensorflow_model_analysis==0.15.4) (5.6.1)\n",
      "Requirement already satisfied: jupyter-console in /usr/local/lib/python3.5/dist-packages (from jupyter<2,>=1->tensorflow_model_analysis==0.15.4) (6.0.0)\n",
      "Requirement already satisfied: qtconsole in /usr/local/lib/python3.5/dist-packages (from jupyter<2,>=1->tensorflow_model_analysis==0.15.4) (4.5.5)\n",
      "Requirement already satisfied: notebook in /usr/local/lib/python3.5/dist-packages (from jupyter<2,>=1->tensorflow_model_analysis==0.15.4) (6.0.2)\n",
      "Requirement already satisfied: rsa<4.1,>=3.1.4 in /usr/local/lib/python3.5/dist-packages (from google-auth>=1.4.1->google-api-python-client<2,>=1.7.8->tfx==0.15.0) (4.0)\n",
      "Requirement already satisfied: pyasn1-modules>=0.2.1 in /usr/local/lib/python3.5/dist-packages (from google-auth>=1.4.1->google-api-python-client<2,>=1.7.8->tfx==0.15.0) (0.2.7)\n",
      "Requirement already satisfied: pyasn1>=0.1.7 in /usr/local/lib/python3.5/dist-packages (from oauth2client<4,>=2.0.1->apache-beam[gcp]<3,>=2.16->tfx==0.15.0) (0.4.7)\n",
      "Requirement already satisfied: pbr>=0.11 in /usr/local/lib/python3.5/dist-packages (from mock<3.0.0,>=1.0.1->apache-beam[gcp]<3,>=2.16->tfx==0.15.0) (5.4.4)\n",
      "Requirement already satisfied: docopt in /usr/local/lib/python3.5/dist-packages (from hdfs<3.0.0,>=2.1.0->apache-beam[gcp]<3,>=2.16->tfx==0.15.0) (0.6.2)\n",
      "Requirement already satisfied: requests>=2.7.0 in /usr/local/lib/python3.5/dist-packages (from hdfs<3.0.0,>=2.1.0->apache-beam[gcp]<3,>=2.16->tfx==0.15.0) (2.22.0)\n",
      "Requirement already satisfied: fasteners>=0.14 in /usr/local/lib/python3.5/dist-packages (from google-apitools<0.5.29,>=0.5.28; extra == \"gcp\"->apache-beam[gcp]<3,>=2.16->tfx==0.15.0) (0.15)\n",
      "Requirement already satisfied: google-api-core[grpc]<2.0.0dev,>=1.6.0 in /usr/local/lib/python3.5/dist-packages (from google-cloud-datastore<1.8.0,>=1.7.1; extra == \"gcp\"->apache-beam[gcp]<3,>=2.16->tfx==0.15.0) (1.14.3)\n",
      "Requirement already satisfied: grpc-google-iam-v1<0.13dev,>=0.12.3 in /usr/local/lib/python3.5/dist-packages (from google-cloud-pubsub<1.1.0,>=0.39.0; extra == \"gcp\"->apache-beam[gcp]<3,>=2.16->tfx==0.15.0) (0.12.3)\n",
      "Requirement already satisfied: google-resumable-media<0.5.0dev,>=0.3.1 in /usr/local/lib/python3.5/dist-packages (from google-cloud-bigquery<1.18.0,>=1.6.0; extra == \"gcp\"->apache-beam[gcp]<3,>=2.16->tfx==0.15.0) (0.4.1)\n",
      "Requirement already satisfied: werkzeug>=0.11.15 in /usr/local/lib/python3.5/dist-packages (from tensorboard<2.1.0,>=2.0.0->tensorflow<3,>=1.15->tfx==0.15.0) (0.16.0)\n",
      "Requirement already satisfied: markdown>=2.6.8 in /usr/local/lib/python3.5/dist-packages (from tensorboard<2.1.0,>=2.0.0->tensorflow<3,>=1.15->tfx==0.15.0) (3.1.1)\n",
      "Requirement already satisfied: h5py in /usr/local/lib/python3.5/dist-packages (from keras-applications>=1.0.8->tensorflow<3,>=1.15->tfx==0.15.0) (2.10.0)\n",
      "Requirement already satisfied: ipython-genutils in /usr/local/lib/python3.5/dist-packages (from traitlets>=4.2->ipython>=5->tensorflow-data-validation==0.15.0) (0.2.0)\n",
      "Requirement already satisfied: parso>=0.5.0 in /usr/local/lib/python3.5/dist-packages (from jedi>=0.10->ipython>=5->tensorflow-data-validation==0.15.0) (0.5.1)\n",
      "Requirement already satisfied: wcwidth in /usr/local/lib/python3.5/dist-packages (from prompt-toolkit<2.1.0,>=2.0.0->ipython>=5->tensorflow-data-validation==0.15.0) (0.1.7)\n",
      "Requirement already satisfied: ptyprocess>=0.5 in /usr/local/lib/python3.5/dist-packages (from pexpect; sys_platform != \"win32\"->ipython>=5->tensorflow-data-validation==0.15.0) (0.6.0)\n",
      "Requirement already satisfied: jsonschema!=2.5.0,>=2.4 in /usr/local/lib/python3.5/dist-packages (from nbformat>=4.2.0->ipywidgets<8,>=7->tensorflow_model_analysis==0.15.4) (3.1.1)\n",
      "Requirement already satisfied: jupyter-core in /usr/local/lib/python3.5/dist-packages (from nbformat>=4.2.0->ipywidgets<8,>=7->tensorflow_model_analysis==0.15.4) (4.6.1)\n",
      "Requirement already satisfied: jupyter-client in /usr/local/lib/python3.5/dist-packages (from ipykernel>=4.5.1->ipywidgets<8,>=7->tensorflow_model_analysis==0.15.4) (5.3.4)\n",
      "Requirement already satisfied: tornado>=4.2 in /usr/local/lib/python3.5/dist-packages (from ipykernel>=4.5.1->ipywidgets<8,>=7->tensorflow_model_analysis==0.15.4) (5.1.1)\n",
      "Requirement already satisfied: entrypoints>=0.2.2 in /usr/local/lib/python3.5/dist-packages (from nbconvert->jupyter<2,>=1->tensorflow_model_analysis==0.15.4) (0.3)\n",
      "Requirement already satisfied: bleach in /usr/local/lib/python3.5/dist-packages (from nbconvert->jupyter<2,>=1->tensorflow_model_analysis==0.15.4) (3.1.0)\n",
      "Requirement already satisfied: mistune<2,>=0.8.1 in /usr/local/lib/python3.5/dist-packages (from nbconvert->jupyter<2,>=1->tensorflow_model_analysis==0.15.4) (0.8.4)\n",
      "Requirement already satisfied: testpath in /usr/local/lib/python3.5/dist-packages (from nbconvert->jupyter<2,>=1->tensorflow_model_analysis==0.15.4) (0.4.4)\n",
      "Requirement already satisfied: defusedxml in /usr/local/lib/python3.5/dist-packages (from nbconvert->jupyter<2,>=1->tensorflow_model_analysis==0.15.4) (0.6.0)\n",
      "Requirement already satisfied: pandocfilters>=1.4.1 in /usr/local/lib/python3.5/dist-packages (from nbconvert->jupyter<2,>=1->tensorflow_model_analysis==0.15.4) (1.4.2)\n",
      "Requirement already satisfied: prometheus-client in /usr/local/lib/python3.5/dist-packages (from notebook->jupyter<2,>=1->tensorflow_model_analysis==0.15.4) (0.7.1)\n",
      "Requirement already satisfied: pyzmq>=17 in /usr/local/lib/python3.5/dist-packages (from notebook->jupyter<2,>=1->tensorflow_model_analysis==0.15.4) (18.1.0)\n",
      "Requirement already satisfied: Send2Trash in /usr/local/lib/python3.5/dist-packages (from notebook->jupyter<2,>=1->tensorflow_model_analysis==0.15.4) (1.5.0)\n",
      "Requirement already satisfied: terminado>=0.8.1 in /usr/local/lib/python3.5/dist-packages (from notebook->jupyter<2,>=1->tensorflow_model_analysis==0.15.4) (0.8.2)\n",
      "Requirement already satisfied: idna<2.9,>=2.5 in /usr/local/lib/python3.5/dist-packages (from requests>=2.7.0->hdfs<3.0.0,>=2.1.0->apache-beam[gcp]<3,>=2.16->tfx==0.15.0) (2.8)\n",
      "Requirement already satisfied: chardet<3.1.0,>=3.0.2 in /usr/local/lib/python3.5/dist-packages (from requests>=2.7.0->hdfs<3.0.0,>=2.1.0->apache-beam[gcp]<3,>=2.16->tfx==0.15.0) (3.0.4)\n",
      "Requirement already satisfied: urllib3!=1.25.0,!=1.25.1,<1.26,>=1.21.1 in /usr/local/lib/python3.5/dist-packages (from requests>=2.7.0->hdfs<3.0.0,>=2.1.0->apache-beam[gcp]<3,>=2.16->tfx==0.15.0) (1.24.2)\n",
      "Requirement already satisfied: certifi>=2017.4.17 in /usr/local/lib/python3.5/dist-packages (from requests>=2.7.0->hdfs<3.0.0,>=2.1.0->apache-beam[gcp]<3,>=2.16->tfx==0.15.0) (2019.9.11)\n",
      "Requirement already satisfied: monotonic>=0.1 in /usr/local/lib/python3.5/dist-packages (from fasteners>=0.14->google-apitools<0.5.29,>=0.5.28; extra == \"gcp\"->apache-beam[gcp]<3,>=2.16->tfx==0.15.0) (1.5)\n",
      "Requirement already satisfied: attrs>=17.4.0 in /usr/local/lib/python3.5/dist-packages (from jsonschema!=2.5.0,>=2.4->nbformat>=4.2.0->ipywidgets<8,>=7->tensorflow_model_analysis==0.15.4) (19.3.0)\n",
      "Requirement already satisfied: pyrsistent>=0.14.0 in /usr/local/lib/python3.5/dist-packages (from jsonschema!=2.5.0,>=2.4->nbformat>=4.2.0->ipywidgets<8,>=7->tensorflow_model_analysis==0.15.4) (0.15.5)\n",
      "Requirement already satisfied: importlib-metadata in /usr/local/lib/python3.5/dist-packages (from jsonschema!=2.5.0,>=2.4->nbformat>=4.2.0->ipywidgets<8,>=7->tensorflow_model_analysis==0.15.4) (0.23)\n",
      "Requirement already satisfied: webencodings in /usr/local/lib/python3.5/dist-packages (from bleach->nbconvert->jupyter<2,>=1->tensorflow_model_analysis==0.15.4) (0.5.1)\n",
      "Requirement already satisfied: zipp>=0.5 in /usr/local/lib/python3.5/dist-packages (from importlib-metadata->jsonschema!=2.5.0,>=2.4->nbformat>=4.2.0->ipywidgets<8,>=7->tensorflow_model_analysis==0.15.4) (0.6.0)\n",
      "Requirement already satisfied: more-itertools in /usr/local/lib/python3.5/dist-packages (from zipp>=0.5->importlib-metadata->jsonschema!=2.5.0,>=2.4->nbformat>=4.2.0->ipywidgets<8,>=7->tensorflow_model_analysis==0.15.4) (7.2.0)\n"
     ]
    }
   ],
   "source": [
    "!sudo pip install tfx==0.15.0 tensorflow-data-validation==0.15.0 tensorflow_transform==0.15.0 tensorflow_model_analysis==0.15.4"
   ]
  },
  {
   "cell_type": "markdown",
   "metadata": {},
   "source": [
    "## Workbooks common"
   ]
  },
  {
   "cell_type": "code",
   "execution_count": 6,
   "metadata": {},
   "outputs": [],
   "source": [
    "##!pip install jupyter-tensorboard"
   ]
  },
  {
   "cell_type": "code",
   "execution_count": 7,
   "metadata": {},
   "outputs": [],
   "source": [
    "## !jupyter labextension install jupyterlab_tensorboard"
   ]
  },
  {
   "cell_type": "code",
   "execution_count": 9,
   "metadata": {
    "slideshow": {
     "slide_type": "fragment"
    }
   },
   "outputs": [
    {
     "name": "stdout",
     "output_type": "stream",
     "text": []
    },
    {
     "name": "stdout",
     "output_type": "stream",
     "text": [
      "Building jupyterlab assets (build:prod:minimize)\n"
     ]
    }
   ],
   "source": [
    "!sudo jupyter labextension install @jupyter-widgets/jupyterlab-manager"
   ]
  },
  {
   "cell_type": "code",
   "execution_count": 10,
   "metadata": {},
   "outputs": [],
   "source": [
    "!sudo jupyter labextension enable jupyterlab_tensorboard"
   ]
  },
  {
   "cell_type": "code",
   "execution_count": 11,
   "metadata": {},
   "outputs": [
    {
     "name": "stdout",
     "output_type": "stream",
     "text": [
      "Enabling: jupyter_tensorboard\n",
      "- Writing config: /root/.jupyter\n",
      "    - Validating...\n",
      "      jupyter_tensorboard 0.1.10 \u001b[32mOK\u001b[0m\n"
     ]
    }
   ],
   "source": [
    "!sudo jupyter serverextension enable jupyter_tensorboard --user"
   ]
  },
  {
   "cell_type": "code",
   "execution_count": 12,
   "metadata": {},
   "outputs": [
    {
     "name": "stdout",
     "output_type": "stream",
     "text": [
      "Enabling notebook extension jupyter_tensorboard/tree...\n",
      "      - Validating: \u001b[32mOK\u001b[0m\n"
     ]
    }
   ],
   "source": [
    "!sudo jupyter nbextension enable jupyter_tensorboard/tree --user"
   ]
  },
  {
   "cell_type": "code",
   "execution_count": 13,
   "metadata": {},
   "outputs": [
    {
     "name": "stdout",
     "output_type": "stream",
     "text": [
      "Enabling tree extension jupyter_tensorboard/tree...\n",
      "      - Validating: \u001b[32mOK\u001b[0m\n",
      "Enabling: jupyter_tensorboard\n",
      "- Writing config: /root/.jupyter\n",
      "    - Validating...\n",
      "      jupyter_tensorboard 0.1.10 \u001b[32mOK\u001b[0m\n"
     ]
    }
   ],
   "source": [
    "!sudo jupyter tensorboard enable --user"
   ]
  },
  {
   "cell_type": "code",
   "execution_count": 14,
   "metadata": {},
   "outputs": [
    {
     "name": "stdout",
     "output_type": "stream",
     "text": [
      "Enabling tree extension jupyter_tensorboard/tree...\n",
      "      - Validating: \u001b[32mOK\u001b[0m\n",
      "Enabling: jupyter_tensorboard\n",
      "- Writing config: /root/.jupyter\n",
      "    - Validating...\n",
      "      jupyter_tensorboard 0.1.10 \u001b[32mOK\u001b[0m\n"
     ]
    }
   ],
   "source": [
    "!sudo jupyter tensorboard enable"
   ]
  },
  {
   "cell_type": "markdown",
   "metadata": {},
   "source": [
    "### TFDV Basic needs tf1.15"
   ]
  },
  {
   "cell_type": "code",
   "execution_count": 15,
   "metadata": {},
   "outputs": [
    {
     "name": "stdout",
     "output_type": "stream",
     "text": [
      "WARNING:tensorflow:From /usr/local/lib/python3.5/dist-packages/tensorflow_core/python/compat/v2_compat.py:65: disable_resource_variables (from tensorflow.python.ops.variable_scope) is deprecated and will be removed in a future version.\n",
      "Instructions for updating:\n",
      "non-resource variables are not supported in the long term\n"
     ]
    }
   ],
   "source": [
    "# Import tf2 module but behave as v1\n",
    "import tensorflow.compat.v1 as tf\n",
    "tf.disable_v2_behavior()"
   ]
  },
  {
   "cell_type": "markdown",
   "metadata": {},
   "source": [
    "### TFMA Jupter extensions"
   ]
  },
  {
   "cell_type": "code",
   "execution_count": 16,
   "metadata": {},
   "outputs": [
    {
     "name": "stdout",
     "output_type": "stream",
     "text": [
      "Enabling notebook extension jupyter-js-widgets/extension...\n",
      "      - Validating: \u001b[32mOK\u001b[0m\n"
     ]
    }
   ],
   "source": [
    "!sudo jupyter nbextension enable --py widgetsnbextension"
   ]
  },
  {
   "cell_type": "code",
   "execution_count": 17,
   "metadata": {},
   "outputs": [
    {
     "name": "stdout",
     "output_type": "stream",
     "text": [
      "Installing /usr/local/lib/python3.5/dist-packages/tensorflow_model_analysis/static -> tfma_widget_js\n",
      "- Validating: \u001b[32mOK\u001b[0m\n",
      "\n",
      "    To initialize this nbextension in the browser every time the notebook (or other app) loads:\n",
      "    \n",
      "          jupyter nbextension enable tensorflow_model_analysis --py\n",
      "    \n"
     ]
    }
   ],
   "source": [
    "!sudo jupyter nbextension install --py --symlink tensorflow_model_analysis"
   ]
  },
  {
   "cell_type": "code",
   "execution_count": 18,
   "metadata": {},
   "outputs": [
    {
     "name": "stdout",
     "output_type": "stream",
     "text": [
      "Enabling notebook extension tfma_widget_js/extension...\n",
      "      - Validating: \u001b[32mOK\u001b[0m\n"
     ]
    }
   ],
   "source": [
    "!sudo jupyter nbextension enable --py tensorflow_model_analysis"
   ]
  },
  {
   "cell_type": "markdown",
   "metadata": {},
   "source": [
    "## Enable the Extension Manager\n",
    "Open advanced settings editor, navigate to extension manger, set the user override to {\"enabled\":true}"
   ]
  },
  {
   "cell_type": "code",
   "execution_count": null,
   "metadata": {},
   "outputs": [],
   "source": []
  }
 ],
 "metadata": {
  "kernelspec": {
   "display_name": "Python 3",
   "language": "python",
   "name": "python3"
  },
  "language_info": {
   "codemirror_mode": {
    "name": "ipython",
    "version": 3
   },
   "file_extension": ".py",
   "mimetype": "text/x-python",
   "name": "python",
   "nbconvert_exporter": "python",
   "pygments_lexer": "ipython3",
   "version": "3.5.3"
  }
 },
 "nbformat": 4,
 "nbformat_minor": 4
}
